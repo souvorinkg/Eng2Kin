{
  "cells": [
    {
      "cell_type": "markdown",
      "metadata": {
        "id": "view-in-github",
        "colab_type": "text"
      },
      "source": [
        "<a href=\"https://colab.research.google.com/github/souvorinkg/Eng2Kin/blob/main/tutorial/EnKinEvaluate.ipynb\" target=\"_parent\"><img src=\"https://colab.research.google.com/assets/colab-badge.svg\" alt=\"Open In Colab\"/></a>"
      ]
    },
    {
      "cell_type": "markdown",
      "source": [
        "#Evaluate The Model\n",
        "In the previous two tutorials, we [created a parralel corpus](https://github.com/souvorinkg/Eng2Kin/blob/main/tutorial/EnKinDemo.ipynb), then used it to [train a NLLB translation model](https://github.com/souvorinkg/Eng2Kin/blob/main/tutorial/training_NLLB_en_kin.ipynb). In this tutorial, we will evaluate this model's performance on translation tasks, compared to the untrained model. We will use [BLEU](https://en.wikipedia.org/wiki/BLEU), chrF2++, and the [edit distance](https://en.wikipedia.org/wiki/Levenshtein_distance) to determine the model's performance.\n",
        "\n",
        "For this project I have selected English and Kinyarwanda. Kinyarwanda is a language spoken by roughly 15 million people in the nation of Rwanda, where it is universally spoken as a first language. I would like to thank [Gaelle Agahozo](https://github.com/GaelleAgahozo), whose initial translations and feedback were crucial to this project's success. I am grateful to [David Dale](https://cointegrated.medium.com/how-to-fine-tune-a-nllb-200-model-for-translating-a-new-language-a37fc706b865), whose article greatly aided me in this project. The code for training the NLLB model found here belongs to him. Finally, I would like to thank my advisor, [Dr. Ferrer](https://github.com/gjf2a/), who has taught me AI and guided this project."
      ],
      "metadata": {
        "id": "mroR4-8smRoO"
      }
    },
    {
      "cell_type": "markdown",
      "source": [
        "Let's get our environment set up, import some libraries, and connect to our google drive."
      ],
      "metadata": {
        "id": "gxjMpKO_mVn7"
      }
    },
    {
      "cell_type": "code",
      "execution_count": 45,
      "metadata": {
        "id": "XuO8k6JIwK5c",
        "colab": {
          "base_uri": "https://localhost:8080/"
        },
        "outputId": "a982bb36-1814-4c2e-91e9-3f9c92e52964"
      },
      "outputs": [
        {
          "output_type": "stream",
          "name": "stdout",
          "text": [
            "Mounted at /gd\n"
          ]
        }
      ],
      "source": [
        "from google.colab import drive\n",
        "import os\n",
        "if not os.path.exists('/gd'):\n",
        "    drive.mount('/gd')"
      ]
    },
    {
      "cell_type": "code",
      "source": [
        "import locale\n",
        "def gpe(x=None):\n",
        "    return \"UTF-8\"\n",
        "locale.getpreferredencoding = gpe"
      ],
      "metadata": {
        "id": "qPjx54id5ko8"
      },
      "execution_count": 46,
      "outputs": []
    },
    {
      "cell_type": "code",
      "execution_count": 47,
      "metadata": {
        "id": "xu8BrYo292Nx"
      },
      "outputs": [],
      "source": [
        "!pip install sentencepiece transformers==4.33 datasets sacremoses sacrebleu  -q"
      ]
    },
    {
      "cell_type": "code",
      "execution_count": 48,
      "metadata": {
        "id": "OjuuYbpG-7nS"
      },
      "outputs": [],
      "source": [
        "import pandas as pd\n",
        "import gc\n",
        "import random\n",
        "import numpy as np\n",
        "import torch\n",
        "from tqdm.auto import tqdm, trange\n",
        "from transformers.optimization import Adafactor\n",
        "from transformers import get_constant_schedule_with_warmup\n",
        "from transformers import AutoModelForSeq2SeqLM\n",
        "from sklearn.model_selection import train_test_split\n",
        "from transformers import NllbTokenizer, AutoModelForSeq2SeqLM, AutoConfig\n",
        "\n",
        "def cleanup():\n",
        "    \"\"\"Try to free GPU memory\"\"\"\n",
        "    gc.collect()\n",
        "    torch.cuda.empty_cache()\n",
        "\n",
        "cleanup()"
      ]
    },
    {
      "cell_type": "markdown",
      "source": [
        "# 6. Using the model"
      ],
      "metadata": {
        "id": "0qubmjZNAxJB"
      }
    },
    {
      "cell_type": "markdown",
      "source": [
        "This cleans any nonstandard characters."
      ],
      "metadata": {
        "id": "Mz8TmVgUmeSD"
      }
    },
    {
      "cell_type": "code",
      "source": [
        "# this code is adapted from  the Stopes repo of the NLLB team\n",
        "# https://github.com/facebookresearch/stopes/blob/main/stopes/pipelines/monolingual/monolingual_line_processor.py#L214\n",
        "\n",
        "import re\n",
        "import sys\n",
        "import typing as tp\n",
        "import unicodedata\n",
        "from sacremoses import MosesPunctNormalizer\n",
        "\n",
        "\n",
        "mpn = MosesPunctNormalizer(lang=\"en\")\n",
        "mpn.substitutions = [\n",
        "    (re.compile(r), sub) for r, sub in mpn.substitutions\n",
        "]\n",
        "\n",
        "\n",
        "def get_non_printing_char_replacer(replace_by: str = \" \") -> tp.Callable[[str], str]:\n",
        "    non_printable_map = {\n",
        "        ord(c): replace_by\n",
        "        for c in (chr(i) for i in range(sys.maxunicode + 1))\n",
        "        # same as \\p{C} in perl\n",
        "        # see https://www.unicode.org/reports/tr44/#General_Category_Values\n",
        "        if unicodedata.category(c) in {\"C\", \"Cc\", \"Cf\", \"Cs\", \"Co\", \"Cn\"}\n",
        "    }\n",
        "\n",
        "    def replace_non_printing_char(line) -> str:\n",
        "        return line.translate(non_printable_map)\n",
        "\n",
        "    return replace_non_printing_char\n",
        "\n",
        "replace_nonprint = get_non_printing_char_replacer(\" \")\n",
        "\n",
        "def preproc(text):\n",
        "    clean = mpn.normalize(text)\n",
        "    clean = replace_nonprint(clean)\n",
        "    # replace 𝓕𝔯𝔞𝔫𝔠𝔢𝔰𝔠𝔞 by Francesca\n",
        "    clean = unicodedata.normalize(\"NFKC\", clean)\n",
        "    return clean"
      ],
      "metadata": {
        "id": "0AXtm-Qf2wCR"
      },
      "execution_count": 49,
      "outputs": []
    },
    {
      "cell_type": "markdown",
      "source": [
        "Load the model from Hugging Face. Use your model location here from the last tutorial!"
      ],
      "metadata": {
        "id": "x6b3zvDqokhd"
      }
    },
    {
      "cell_type": "code",
      "source": [
        "from google.colab import drive\n",
        "drive.mount('/content/gdrive')"
      ],
      "metadata": {
        "colab": {
          "base_uri": "https://localhost:8080/"
        },
        "id": "8Q8wDj6eCFBL",
        "outputId": "c9f2d3ae-43a4-46c7-edc9-e852cd50c868"
      },
      "execution_count": 50,
      "outputs": [
        {
          "output_type": "stream",
          "name": "stdout",
          "text": [
            "Mounted at /content/gdrive\n"
          ]
        }
      ]
    },
    {
      "cell_type": "markdown",
      "source": [
        "Here, we load the model from the Hugging Face hub. Your model will be saved at a different URL. This should be the same model you created in the previous tutorial."
      ],
      "metadata": {
        "id": "dm_P1I8GJiNI"
      }
    },
    {
      "cell_type": "code",
      "source": [
        "MODEL_URL = 'souvorinkg/nllb'\n",
        "model = AutoModelForSeq2SeqLM.from_pretrained(MODEL_URL)\n",
        "tokenizer = NllbTokenizer.from_pretrained('facebook/nllb-200-distilled-600M')\n",
        "# tokenizer = NllbTokenizer.from_pretrained(MODEL_URL, force_download=True)"
      ],
      "metadata": {
        "id": "uY7nUGsX3NOM",
        "colab": {
          "base_uri": "https://localhost:8080/"
        },
        "outputId": "75cd156e-8b9f-47ef-c6bd-19f3712ec8fe"
      },
      "execution_count": 51,
      "outputs": [
        {
          "output_type": "stream",
          "name": "stderr",
          "text": [
            "/usr/local/lib/python3.10/dist-packages/huggingface_hub/file_download.py:1132: FutureWarning: `resume_download` is deprecated and will be removed in version 1.0.0. Downloads always resume when possible. If you want to force a new download, use `force_download=True`.\n",
            "  warnings.warn(\n"
          ]
        }
      ]
    },
    {
      "cell_type": "markdown",
      "source": [
        "Here, we load a simple translate function to test the model's performance."
      ],
      "metadata": {
        "id": "6fimjsXiovGP"
      }
    },
    {
      "cell_type": "code",
      "source": [
        "def translate(text, src_lang='eng_Latn', tgt_lang='kin_Latn', a=32, b=3, max_input_length=1024, num_beams=4, **kwargs):\n",
        "    tokenizer.src_lang = src_lang\n",
        "    tokenizer.tgt_lang = tgt_lang\n",
        "    inputs = tokenizer(text, return_tensors='pt', padding=True, truncation=True, max_length=max_input_length)\n",
        "    result = model.generate(\n",
        "        **inputs.to(model.device),\n",
        "        forced_bos_token_id=tokenizer.convert_tokens_to_ids(tgt_lang),\n",
        "        max_new_tokens=int(a + b * inputs.input_ids.shape[1]),\n",
        "        num_beams=num_beams,\n",
        "        **kwargs\n",
        "    )\n",
        "    return tokenizer.batch_decode(result, skip_special_tokens=True)"
      ],
      "metadata": {
        "id": "ZIsPI6YT3UG0"
      },
      "execution_count": 52,
      "outputs": []
    },
    {
      "cell_type": "code",
      "source": [
        "t = \"I ran to the store\"\n",
        "print(translate(t, 'eng_Latn', 'kin_Latn'))\n",
        "# ['Nanyarukiye mu iduka']"
      ],
      "metadata": {
        "id": "UJwLBH8M9XWW",
        "colab": {
          "base_uri": "https://localhost:8080/"
        },
        "outputId": "62727304-5b69-4ba8-8bfb-2c6448d2c274"
      },
      "execution_count": 53,
      "outputs": [
        {
          "output_type": "stream",
          "name": "stdout",
          "text": [
            "['Nanyarukiye mu iduka']\n"
          ]
        }
      ]
    },
    {
      "cell_type": "markdown",
      "source": [
        "The do_sample method being set to true allow us to get the next token from a probability distribution of tokens, rather than just the most likely token. In our case, we will be using [beam search](https://en.wikipedia.org/wiki/Beam_search), which is a search algorithm that performs breadth first search on a limited number of paths. Currently, we are searching down 2 beams, or paths. The [temperature](https://community.openai.com/t/cheat-sheet-mastering-temperature-and-top-p-in-chatgpt-api/172683) reflects the likelihood that an unlikely translation will be selected, the higher the temperature, the more likely the model is to try a different translation.\n",
        "Feel free to adjust these parameters to see what works best for you!"
      ],
      "metadata": {
        "id": "MIrXoO03o8LK"
      }
    },
    {
      "cell_type": "code",
      "source": [
        "translate(t, 'eng_Latn', 'kin_Latn', do_sample=True, num_beams=2, temperature=1.5)"
      ],
      "metadata": {
        "id": "o9JFXvBS9xY7",
        "colab": {
          "base_uri": "https://localhost:8080/"
        },
        "outputId": "785cb25e-6c89-4759-c496-d469edaec43a"
      },
      "execution_count": 54,
      "outputs": [
        {
          "output_type": "execute_result",
          "data": {
            "text/plain": [
              "['Nanyarukiye mu iduka']"
            ]
          },
          "metadata": {},
          "execution_count": 54
        }
      ]
    },
    {
      "cell_type": "markdown",
      "source": [
        "This function gets all of the translations of a similar length in a batch, then translates them all at once, which is more efficient."
      ],
      "metadata": {
        "id": "qQI4124UNU4z"
      }
    },
    {
      "cell_type": "code",
      "source": [
        "def batched_translate(texts, batch_size=16, **kwargs):\n",
        "    \"\"\"Translate texts in batches of similar length\"\"\"\n",
        "    idxs, texts2 = zip(*sorted(enumerate(texts), key=lambda p: len(p[1]), reverse=True))\n",
        "    results = []\n",
        "    for i in trange(0, len(texts2), batch_size):\n",
        "        results.extend(translate(texts2[i: i+batch_size], **kwargs))\n",
        "    return [p for i, p in sorted(zip(idxs, results))]"
      ],
      "metadata": {
        "id": "JoWvizFCRngQ"
      },
      "execution_count": 55,
      "outputs": []
    },
    {
      "cell_type": "markdown",
      "source": [
        "This loads the test.csv file we created in the previous tutorial through our test/train split."
      ],
      "metadata": {
        "id": "ey8tM0OxLdGv"
      }
    },
    {
      "cell_type": "code",
      "source": [
        "filename = \"test.csv\"\n",
        "file_path = F\"/content/gdrive/MyDrive/{filename}\"\n",
        "df_test = pd.read_csv(file_path)\n",
        "df_test.head()"
      ],
      "metadata": {
        "colab": {
          "base_uri": "https://localhost:8080/",
          "height": 206
        },
        "id": "A8gmcCRjDR96",
        "outputId": "7d3fae02-ff5b-4a7d-8255-240bfeaec518"
      },
      "execution_count": 56,
      "outputs": [
        {
          "output_type": "execute_result",
          "data": {
            "text/plain": [
              "                                                            eng  \\\n",
              "0                                    You were lookin for me too   \n",
              "1                                     No ham no turkey no goose   \n",
              "2                                       Well we ll talk a break   \n",
              "3                                   So about those new pot laws   \n",
              "4  Unforgiving reconciliation is an ethical form of retribution   \n",
              "\n",
              "                                                      kin  \n",
              "0                                        Nanjye washakaga  \n",
              "1                           Nta ham nta turkiya nta ngagi  \n",
              "2                          Nibyiza ko tuzaganira kuruhuka  \n",
              "3                    Kubijyanye rero naya mategeko mashya  \n",
              "4  Ubwiyunge butababarira nuburyo bwimyitwarire yo guhana  "
            ],
            "text/html": [
              "\n",
              "  <div id=\"df-84dec293-15e6-4c2b-92b4-9cf3f192a52a\" class=\"colab-df-container\">\n",
              "    <div>\n",
              "<style scoped>\n",
              "    .dataframe tbody tr th:only-of-type {\n",
              "        vertical-align: middle;\n",
              "    }\n",
              "\n",
              "    .dataframe tbody tr th {\n",
              "        vertical-align: top;\n",
              "    }\n",
              "\n",
              "    .dataframe thead th {\n",
              "        text-align: right;\n",
              "    }\n",
              "</style>\n",
              "<table border=\"1\" class=\"dataframe\">\n",
              "  <thead>\n",
              "    <tr style=\"text-align: right;\">\n",
              "      <th></th>\n",
              "      <th>eng</th>\n",
              "      <th>kin</th>\n",
              "    </tr>\n",
              "  </thead>\n",
              "  <tbody>\n",
              "    <tr>\n",
              "      <th>0</th>\n",
              "      <td>You were lookin for me too</td>\n",
              "      <td>Nanjye washakaga</td>\n",
              "    </tr>\n",
              "    <tr>\n",
              "      <th>1</th>\n",
              "      <td>No ham no turkey no goose</td>\n",
              "      <td>Nta ham nta turkiya nta ngagi</td>\n",
              "    </tr>\n",
              "    <tr>\n",
              "      <th>2</th>\n",
              "      <td>Well we ll talk a break</td>\n",
              "      <td>Nibyiza ko tuzaganira kuruhuka</td>\n",
              "    </tr>\n",
              "    <tr>\n",
              "      <th>3</th>\n",
              "      <td>So about those new pot laws</td>\n",
              "      <td>Kubijyanye rero naya mategeko mashya</td>\n",
              "    </tr>\n",
              "    <tr>\n",
              "      <th>4</th>\n",
              "      <td>Unforgiving reconciliation is an ethical form of retribution</td>\n",
              "      <td>Ubwiyunge butababarira nuburyo bwimyitwarire yo guhana</td>\n",
              "    </tr>\n",
              "  </tbody>\n",
              "</table>\n",
              "</div>\n",
              "    <div class=\"colab-df-buttons\">\n",
              "\n",
              "  <div class=\"colab-df-container\">\n",
              "    <button class=\"colab-df-convert\" onclick=\"convertToInteractive('df-84dec293-15e6-4c2b-92b4-9cf3f192a52a')\"\n",
              "            title=\"Convert this dataframe to an interactive table.\"\n",
              "            style=\"display:none;\">\n",
              "\n",
              "  <svg xmlns=\"http://www.w3.org/2000/svg\" height=\"24px\" viewBox=\"0 -960 960 960\">\n",
              "    <path d=\"M120-120v-720h720v720H120Zm60-500h600v-160H180v160Zm220 220h160v-160H400v160Zm0 220h160v-160H400v160ZM180-400h160v-160H180v160Zm440 0h160v-160H620v160ZM180-180h160v-160H180v160Zm440 0h160v-160H620v160Z\"/>\n",
              "  </svg>\n",
              "    </button>\n",
              "\n",
              "  <style>\n",
              "    .colab-df-container {\n",
              "      display:flex;\n",
              "      gap: 12px;\n",
              "    }\n",
              "\n",
              "    .colab-df-convert {\n",
              "      background-color: #E8F0FE;\n",
              "      border: none;\n",
              "      border-radius: 50%;\n",
              "      cursor: pointer;\n",
              "      display: none;\n",
              "      fill: #1967D2;\n",
              "      height: 32px;\n",
              "      padding: 0 0 0 0;\n",
              "      width: 32px;\n",
              "    }\n",
              "\n",
              "    .colab-df-convert:hover {\n",
              "      background-color: #E2EBFA;\n",
              "      box-shadow: 0px 1px 2px rgba(60, 64, 67, 0.3), 0px 1px 3px 1px rgba(60, 64, 67, 0.15);\n",
              "      fill: #174EA6;\n",
              "    }\n",
              "\n",
              "    .colab-df-buttons div {\n",
              "      margin-bottom: 4px;\n",
              "    }\n",
              "\n",
              "    [theme=dark] .colab-df-convert {\n",
              "      background-color: #3B4455;\n",
              "      fill: #D2E3FC;\n",
              "    }\n",
              "\n",
              "    [theme=dark] .colab-df-convert:hover {\n",
              "      background-color: #434B5C;\n",
              "      box-shadow: 0px 1px 3px 1px rgba(0, 0, 0, 0.15);\n",
              "      filter: drop-shadow(0px 1px 2px rgba(0, 0, 0, 0.3));\n",
              "      fill: #FFFFFF;\n",
              "    }\n",
              "  </style>\n",
              "\n",
              "    <script>\n",
              "      const buttonEl =\n",
              "        document.querySelector('#df-84dec293-15e6-4c2b-92b4-9cf3f192a52a button.colab-df-convert');\n",
              "      buttonEl.style.display =\n",
              "        google.colab.kernel.accessAllowed ? 'block' : 'none';\n",
              "\n",
              "      async function convertToInteractive(key) {\n",
              "        const element = document.querySelector('#df-84dec293-15e6-4c2b-92b4-9cf3f192a52a');\n",
              "        const dataTable =\n",
              "          await google.colab.kernel.invokeFunction('convertToInteractive',\n",
              "                                                    [key], {});\n",
              "        if (!dataTable) return;\n",
              "\n",
              "        const docLinkHtml = 'Like what you see? Visit the ' +\n",
              "          '<a target=\"_blank\" href=https://colab.research.google.com/notebooks/data_table.ipynb>data table notebook</a>'\n",
              "          + ' to learn more about interactive tables.';\n",
              "        element.innerHTML = '';\n",
              "        dataTable['output_type'] = 'display_data';\n",
              "        await google.colab.output.renderOutput(dataTable, element);\n",
              "        const docLink = document.createElement('div');\n",
              "        docLink.innerHTML = docLinkHtml;\n",
              "        element.appendChild(docLink);\n",
              "      }\n",
              "    </script>\n",
              "  </div>\n",
              "\n",
              "\n",
              "<div id=\"df-2710980f-5308-4fdb-9c1a-f7ce350f25d0\">\n",
              "  <button class=\"colab-df-quickchart\" onclick=\"quickchart('df-2710980f-5308-4fdb-9c1a-f7ce350f25d0')\"\n",
              "            title=\"Suggest charts\"\n",
              "            style=\"display:none;\">\n",
              "\n",
              "<svg xmlns=\"http://www.w3.org/2000/svg\" height=\"24px\"viewBox=\"0 0 24 24\"\n",
              "     width=\"24px\">\n",
              "    <g>\n",
              "        <path d=\"M19 3H5c-1.1 0-2 .9-2 2v14c0 1.1.9 2 2 2h14c1.1 0 2-.9 2-2V5c0-1.1-.9-2-2-2zM9 17H7v-7h2v7zm4 0h-2V7h2v10zm4 0h-2v-4h2v4z\"/>\n",
              "    </g>\n",
              "</svg>\n",
              "  </button>\n",
              "\n",
              "<style>\n",
              "  .colab-df-quickchart {\n",
              "      --bg-color: #E8F0FE;\n",
              "      --fill-color: #1967D2;\n",
              "      --hover-bg-color: #E2EBFA;\n",
              "      --hover-fill-color: #174EA6;\n",
              "      --disabled-fill-color: #AAA;\n",
              "      --disabled-bg-color: #DDD;\n",
              "  }\n",
              "\n",
              "  [theme=dark] .colab-df-quickchart {\n",
              "      --bg-color: #3B4455;\n",
              "      --fill-color: #D2E3FC;\n",
              "      --hover-bg-color: #434B5C;\n",
              "      --hover-fill-color: #FFFFFF;\n",
              "      --disabled-bg-color: #3B4455;\n",
              "      --disabled-fill-color: #666;\n",
              "  }\n",
              "\n",
              "  .colab-df-quickchart {\n",
              "    background-color: var(--bg-color);\n",
              "    border: none;\n",
              "    border-radius: 50%;\n",
              "    cursor: pointer;\n",
              "    display: none;\n",
              "    fill: var(--fill-color);\n",
              "    height: 32px;\n",
              "    padding: 0;\n",
              "    width: 32px;\n",
              "  }\n",
              "\n",
              "  .colab-df-quickchart:hover {\n",
              "    background-color: var(--hover-bg-color);\n",
              "    box-shadow: 0 1px 2px rgba(60, 64, 67, 0.3), 0 1px 3px 1px rgba(60, 64, 67, 0.15);\n",
              "    fill: var(--button-hover-fill-color);\n",
              "  }\n",
              "\n",
              "  .colab-df-quickchart-complete:disabled,\n",
              "  .colab-df-quickchart-complete:disabled:hover {\n",
              "    background-color: var(--disabled-bg-color);\n",
              "    fill: var(--disabled-fill-color);\n",
              "    box-shadow: none;\n",
              "  }\n",
              "\n",
              "  .colab-df-spinner {\n",
              "    border: 2px solid var(--fill-color);\n",
              "    border-color: transparent;\n",
              "    border-bottom-color: var(--fill-color);\n",
              "    animation:\n",
              "      spin 1s steps(1) infinite;\n",
              "  }\n",
              "\n",
              "  @keyframes spin {\n",
              "    0% {\n",
              "      border-color: transparent;\n",
              "      border-bottom-color: var(--fill-color);\n",
              "      border-left-color: var(--fill-color);\n",
              "    }\n",
              "    20% {\n",
              "      border-color: transparent;\n",
              "      border-left-color: var(--fill-color);\n",
              "      border-top-color: var(--fill-color);\n",
              "    }\n",
              "    30% {\n",
              "      border-color: transparent;\n",
              "      border-left-color: var(--fill-color);\n",
              "      border-top-color: var(--fill-color);\n",
              "      border-right-color: var(--fill-color);\n",
              "    }\n",
              "    40% {\n",
              "      border-color: transparent;\n",
              "      border-right-color: var(--fill-color);\n",
              "      border-top-color: var(--fill-color);\n",
              "    }\n",
              "    60% {\n",
              "      border-color: transparent;\n",
              "      border-right-color: var(--fill-color);\n",
              "    }\n",
              "    80% {\n",
              "      border-color: transparent;\n",
              "      border-right-color: var(--fill-color);\n",
              "      border-bottom-color: var(--fill-color);\n",
              "    }\n",
              "    90% {\n",
              "      border-color: transparent;\n",
              "      border-bottom-color: var(--fill-color);\n",
              "    }\n",
              "  }\n",
              "</style>\n",
              "\n",
              "  <script>\n",
              "    async function quickchart(key) {\n",
              "      const quickchartButtonEl =\n",
              "        document.querySelector('#' + key + ' button');\n",
              "      quickchartButtonEl.disabled = true;  // To prevent multiple clicks.\n",
              "      quickchartButtonEl.classList.add('colab-df-spinner');\n",
              "      try {\n",
              "        const charts = await google.colab.kernel.invokeFunction(\n",
              "            'suggestCharts', [key], {});\n",
              "      } catch (error) {\n",
              "        console.error('Error during call to suggestCharts:', error);\n",
              "      }\n",
              "      quickchartButtonEl.classList.remove('colab-df-spinner');\n",
              "      quickchartButtonEl.classList.add('colab-df-quickchart-complete');\n",
              "    }\n",
              "    (() => {\n",
              "      let quickchartButtonEl =\n",
              "        document.querySelector('#df-2710980f-5308-4fdb-9c1a-f7ce350f25d0 button');\n",
              "      quickchartButtonEl.style.display =\n",
              "        google.colab.kernel.accessAllowed ? 'block' : 'none';\n",
              "    })();\n",
              "  </script>\n",
              "</div>\n",
              "\n",
              "    </div>\n",
              "  </div>\n"
            ],
            "application/vnd.google.colaboratory.intrinsic+json": {
              "type": "dataframe",
              "variable_name": "df_test",
              "summary": "{\n  \"name\": \"df_test\",\n  \"rows\": 13648,\n  \"fields\": [\n    {\n      \"column\": \"eng\",\n      \"properties\": {\n        \"dtype\": \"string\",\n        \"num_unique_values\": 13421,\n        \"samples\": [\n          \"Today the number is one out of 10\",\n          \"Where are the others\",\n          \"Neither had seen one before\"\n        ],\n        \"semantic_type\": \"\",\n        \"description\": \"\"\n      }\n    },\n    {\n      \"column\": \"kin\",\n      \"properties\": {\n        \"dtype\": \"string\",\n        \"num_unique_values\": 13314,\n        \"samples\": [\n          \"Ikirwa cya Simoni Ga\",\n          \"Reka umwana\",\n          \"Nongeye kureba ku isaha itagira umubare\"\n        ],\n        \"semantic_type\": \"\",\n        \"description\": \"\"\n      }\n    }\n  ]\n}"
            }
          },
          "metadata": {},
          "execution_count": 56
        }
      ]
    },
    {
      "cell_type": "code",
      "source": [
        "from google.colab import drive\n",
        "drive.mount('/content/drive')"
      ],
      "metadata": {
        "id": "Hka1iVgQ03FD",
        "colab": {
          "base_uri": "https://localhost:8080/"
        },
        "outputId": "bfee3800-0c5e-4b5e-c5f4-5b7498fb86ee"
      },
      "execution_count": 57,
      "outputs": [
        {
          "output_type": "stream",
          "name": "stdout",
          "text": [
            "Mounted at /content/drive\n"
          ]
        }
      ]
    },
    {
      "cell_type": "markdown",
      "source": [
        "This gets a subsection of our data to test. The test dataset has already been shuffled, so this is a random sample."
      ],
      "metadata": {
        "id": "wzhT4LWcpkGy"
      }
    },
    {
      "cell_type": "code",
      "source": [
        "df_trial = df_test[:100]\n",
        "print(df_trial.head())"
      ],
      "metadata": {
        "id": "gHmxOwNg40uo",
        "colab": {
          "base_uri": "https://localhost:8080/"
        },
        "outputId": "57269065-1862-4161-aa87-99a00fa019b6"
      },
      "execution_count": 58,
      "outputs": [
        {
          "output_type": "stream",
          "name": "stdout",
          "text": [
            "                                                            eng  \\\n",
            "0                                    You were lookin for me too   \n",
            "1                                     No ham no turkey no goose   \n",
            "2                                       Well we ll talk a break   \n",
            "3                                   So about those new pot laws   \n",
            "4  Unforgiving reconciliation is an ethical form of retribution   \n",
            "\n",
            "                                                      kin  \n",
            "0                                        Nanjye washakaga  \n",
            "1                           Nta ham nta turkiya nta ngagi  \n",
            "2                          Nibyiza ko tuzaganira kuruhuka  \n",
            "3                    Kubijyanye rero naya mategeko mashya  \n",
            "4  Ubwiyunge butababarira nuburyo bwimyitwarire yo guhana  \n"
          ]
        }
      ]
    },
    {
      "cell_type": "code",
      "source": [
        "kin_translated = batched_translate(df_trial.eng, src_lang='eng_Latn', tgt_lang='kin_Latn')"
      ],
      "metadata": {
        "id": "2-wPl4fTRlv2",
        "colab": {
          "base_uri": "https://localhost:8080/",
          "height": 49,
          "referenced_widgets": [
            "b5eb797bf12a4c6d927ea66ad4b718c7",
            "17c0fdf06a9840b2b0d0a2b9ac46b264",
            "2daff02382194d30a11c6bd590fab284",
            "fe8b0539b3a84cf0bbe635b8e767b28e",
            "23f36a535f1249909078771637551579",
            "2b9974374a6f44dda74ead780c8d0a7d",
            "cf70158914e541c5892ae9e5030759dd",
            "76f3c747b4c343b9921795f65deb8d74",
            "4ff5134527ee439e95b480f4f1e2ff94",
            "602a4dcfb57c4f45906417ff8bbe9c8a",
            "d5cce321e7154006b793d440e805ed7c"
          ]
        },
        "outputId": "7d222425-33fc-415d-ebfa-2579d68dd34c"
      },
      "execution_count": 59,
      "outputs": [
        {
          "output_type": "display_data",
          "data": {
            "text/plain": [
              "  0%|          | 0/7 [00:00<?, ?it/s]"
            ],
            "application/vnd.jupyter.widget-view+json": {
              "version_major": 2,
              "version_minor": 0,
              "model_id": "b5eb797bf12a4c6d927ea66ad4b718c7"
            }
          },
          "metadata": {}
        }
      ]
    },
    {
      "cell_type": "code",
      "source": [
        "eng_translated = batched_translate(df_trial.kin, src_lang='kin_Latn', tgt_lang='eng_Latn')"
      ],
      "metadata": {
        "colab": {
          "base_uri": "https://localhost:8080/",
          "height": 49,
          "referenced_widgets": [
            "dd00f480a0c8489c9626265d220c568c",
            "a638ecd7e5064efc8ee84a15e3ba5833",
            "24ed30554e894d74a24451443a3f6bd3",
            "9579c938d86646fdbd893b110f783f5b",
            "c9768ccad8764445b0446538e1bdd672",
            "20790eacdb774be7939cabb63c2932be",
            "a8e3991d6b904728a7004c1f809d63ef",
            "8a63c4ea3696449bb116b7b9e5133c58",
            "10bcebb9705047f9b51c5674eaeaa297",
            "8502c7bc6e2745b397b9f451c6567890",
            "8b35ea0e190b47ad8ea8625a577c1771"
          ]
        },
        "id": "r38RCJbGEmw5",
        "outputId": "a6800158-a0ac-481a-c600-9a1244bc3348"
      },
      "execution_count": 60,
      "outputs": [
        {
          "output_type": "display_data",
          "data": {
            "text/plain": [
              "  0%|          | 0/7 [00:00<?, ?it/s]"
            ],
            "application/vnd.jupyter.widget-view+json": {
              "version_major": 2,
              "version_minor": 0,
              "model_id": "dd00f480a0c8489c9626265d220c568c"
            }
          },
          "metadata": {}
        }
      ]
    },
    {
      "cell_type": "markdown",
      "source": [
        "Now, we create a new subsection of df_trial that has all of the translations in it."
      ],
      "metadata": {
        "id": "RWRUyKr4qUL-"
      }
    },
    {
      "cell_type": "code",
      "source": [
        "df_trial['eng_translated'] = eng_translated\n",
        "df_trial['kin_translated'] = kin_translated"
      ],
      "metadata": {
        "id": "k3S475uG3fBh",
        "colab": {
          "base_uri": "https://localhost:8080/"
        },
        "outputId": "3fa66a86-47a5-4139-cfea-99696f71d6fd"
      },
      "execution_count": 61,
      "outputs": [
        {
          "output_type": "stream",
          "name": "stderr",
          "text": [
            "<ipython-input-61-79664113eaa6>:1: SettingWithCopyWarning: \n",
            "A value is trying to be set on a copy of a slice from a DataFrame.\n",
            "Try using .loc[row_indexer,col_indexer] = value instead\n",
            "\n",
            "See the caveats in the documentation: https://pandas.pydata.org/pandas-docs/stable/user_guide/indexing.html#returning-a-view-versus-a-copy\n",
            "  df_trial['eng_translated'] = eng_translated\n",
            "<ipython-input-61-79664113eaa6>:2: SettingWithCopyWarning: \n",
            "A value is trying to be set on a copy of a slice from a DataFrame.\n",
            "Try using .loc[row_indexer,col_indexer] = value instead\n",
            "\n",
            "See the caveats in the documentation: https://pandas.pydata.org/pandas-docs/stable/user_guide/indexing.html#returning-a-view-versus-a-copy\n",
            "  df_trial['kin_translated'] = kin_translated\n"
          ]
        }
      ]
    },
    {
      "cell_type": "markdown",
      "source": [
        "BLEU is nne of the most popular metrics for evaluating machine translation. It works by getting a score between 0 and 100, the closer it is to 100, the closer it is to the reference text. Determines how many of the reference words are in the outputted translation. However, BLEU depends on the tokenization of the words. To standardize this process, we will use SacreBLUE, which uses the Tokens from the workshop on Machine Translation (WMT) evaluation metrics. Both BLEU and chrF++ are similar metrics to evaluate the text, using [precision and recall](https://en.wikipedia.org/wiki/Precision_and_recall). Precision measures how many of the translated words appeared in the reference. Recall measures how many of the reference words were used. Here is an example:"
      ],
      "metadata": {
        "id": "v2OTH6nbq3jZ"
      }
    },
    {
      "cell_type": "code",
      "source": [
        "import sacrebleu\n",
        "bleu_calc = sacrebleu.BLEU()\n",
        "chrf_calc = sacrebleu.CHRF(word_order=2)  # this metric is called ChrF++"
      ],
      "metadata": {
        "id": "FMRSCWW732ya"
      },
      "execution_count": 62,
      "outputs": []
    },
    {
      "cell_type": "code",
      "source": [
        "xx, yy = ['I ran to the store'], ['I went to the store']\n",
        "print(bleu_calc.corpus_score(xx, [yy]))\n",
        "print(chrf_calc.corpus_score(xx, [yy]))\n",
        "print(chrf_calc.corpus_score(yy, [xx]))"
      ],
      "metadata": {
        "id": "gSwL7o6DMy8M",
        "colab": {
          "base_uri": "https://localhost:8080/"
        },
        "outputId": "06f9ff01-44cf-4697-ee29-774624721380"
      },
      "execution_count": 63,
      "outputs": [
        {
          "output_type": "stream",
          "name": "stdout",
          "text": [
            "BLEU = 42.73 80.0/50.0/33.3/25.0 (BP = 1.000 ratio = 1.000 hyp_len = 5 ref_len = 5)\n",
            "chrF2++ = 64.01\n",
            "chrF2++ = 66.45\n"
          ]
        }
      ]
    },
    {
      "cell_type": "markdown",
      "source": [
        "As you can see, BLEU gives scores far less than 100 for translations that are practically identical. So, we will be shooting for a score in the 30's pr 40's."
      ],
      "metadata": {
        "id": "bq4Wu0gRN9f0"
      }
    },
    {
      "cell_type": "code",
      "source": [
        "print(bleu_calc.corpus_score(df_trial['eng_translated'].tolist(), [df_trial['eng'].tolist()]))\n",
        "print(chrf_calc.corpus_score(df_trial['eng_translated'].tolist(), [df_trial['eng'].tolist()]))\n",
        "print(bleu_calc.corpus_score(df_trial['kin_translated'].tolist(), [df_trial['kin'].tolist()]))\n",
        "print(chrf_calc.corpus_score(df_trial['kin_translated'].tolist(), [df_trial['kin'].tolist()]))"
      ],
      "metadata": {
        "id": "7NKKUyXZ4oXr",
        "colab": {
          "base_uri": "https://localhost:8080/"
        },
        "outputId": "51c2b3f9-061d-495d-ddec-a4da0f0bf1fd"
      },
      "execution_count": 64,
      "outputs": [
        {
          "output_type": "stream",
          "name": "stdout",
          "text": [
            "BLEU = 37.28 64.5/43.6/31.5/25.3 (BP = 0.964 ratio = 0.965 hyp_len = 572 ref_len = 593)\n",
            "chrF2++ = 53.63\n",
            "BLEU = 40.51 65.8/47.0/34.3/26.6 (BP = 0.989 ratio = 0.989 hyp_len = 445 ref_len = 450)\n",
            "chrF2++ = 64.86\n"
          ]
        }
      ]
    },
    {
      "cell_type": "markdown",
      "source": [
        "Both of these scores are quite reasonable! Interestingly, the model was better at translating English into Kinyarwanda that Kinyarwanda into English. Our English data was of higher quality, so it is reasonable that the model was better at using it. However, in previous papers, Seq2Seq models performed reasonable translations into English from low-resource languages without fine-tuning, because almost every translation system uses English as an intermediary."
      ],
      "metadata": {
        "id": "11IV1hMuONd6"
      }
    },
    {
      "cell_type": "code",
      "source": [
        "pd.options.display.max_colwidth = 100"
      ],
      "metadata": {
        "id": "svplVgTB5_Xq"
      },
      "execution_count": 65,
      "outputs": []
    },
    {
      "cell_type": "code",
      "source": [
        "df_trial.sample(10, random_state=5)[['kin', 'eng', 'kin_translated', 'eng_translated']]"
      ],
      "metadata": {
        "id": "i3bMbXUv5TsV",
        "colab": {
          "base_uri": "https://localhost:8080/",
          "height": 484
        },
        "outputId": "d39de693-4968-4a2b-ca76-09191d8fdb1c"
      },
      "execution_count": 66,
      "outputs": [
        {
          "output_type": "execute_result",
          "data": {
            "text/plain": [
              "                                    kin                                eng  \\\n",
              "66                   Igisubizo ni kimwe             The answer is the same   \n",
              "32            JOHNNIE COCHRAN Yarangije    JOHNNIE COCHRAN Is she finished   \n",
              "46                 Ubu noneho ariteguye             This time she is ready   \n",
              "28         Koresha amashusho yo guhanga    Use some creative visualization   \n",
              "74                    DeFlores nka Yank               DeFlores as the Yank   \n",
              "23                 Ndatera imbere cyane         I m aggressively progrowth   \n",
              "10              JKV Kugisha inama Bwana         JKV Consulting of which Mr   \n",
              "20   Ibyo aribyo byose dukeneye kumenya         That s all we need to know   \n",
              "17     Nagiye mu modoka nsubira mu rugo     I drove off and went back home   \n",
              "35  Haracyari imbere y'urupfu mu gikapu  Still ahead death in a duffel bag   \n",
              "\n",
              "                           kin_translated                    eng_translated  \n",
              "66                     Igisubizo ni kimwe            The answer is the same  \n",
              "32             JOHNNIE COCHRAN Ararangije          JOHNNIE COCHRAN Finished  \n",
              "46                    Icyo gihe ariteguye                    Now he s ready  \n",
              "28               Koresha amashusho ahanga              Use creative imagery  \n",
              "74                      DeFlores nka Yank            DeFlorescences as Yank  \n",
              "23                Ndi gutera imbere cyane        I m progressing enormously  \n",
              "10                JKV Kugisha inama Bwana                 JKV Consulting Mr  \n",
              "20     Ibyo aribyo byose dukeneye kumenya        That s all we need to know  \n",
              "17  Nagiye gutwara imodoka nsubira murugo  I drove to the car and back home  \n",
              "35     Biracyari imbere y'urupfu mumufuka     Still facing death in the bag  "
            ],
            "text/html": [
              "\n",
              "  <div id=\"df-a0ed5aa2-1eb1-4c19-b3b6-e34323eca70d\" class=\"colab-df-container\">\n",
              "    <div>\n",
              "<style scoped>\n",
              "    .dataframe tbody tr th:only-of-type {\n",
              "        vertical-align: middle;\n",
              "    }\n",
              "\n",
              "    .dataframe tbody tr th {\n",
              "        vertical-align: top;\n",
              "    }\n",
              "\n",
              "    .dataframe thead th {\n",
              "        text-align: right;\n",
              "    }\n",
              "</style>\n",
              "<table border=\"1\" class=\"dataframe\">\n",
              "  <thead>\n",
              "    <tr style=\"text-align: right;\">\n",
              "      <th></th>\n",
              "      <th>kin</th>\n",
              "      <th>eng</th>\n",
              "      <th>kin_translated</th>\n",
              "      <th>eng_translated</th>\n",
              "    </tr>\n",
              "  </thead>\n",
              "  <tbody>\n",
              "    <tr>\n",
              "      <th>66</th>\n",
              "      <td>Igisubizo ni kimwe</td>\n",
              "      <td>The answer is the same</td>\n",
              "      <td>Igisubizo ni kimwe</td>\n",
              "      <td>The answer is the same</td>\n",
              "    </tr>\n",
              "    <tr>\n",
              "      <th>32</th>\n",
              "      <td>JOHNNIE COCHRAN Yarangije</td>\n",
              "      <td>JOHNNIE COCHRAN Is she finished</td>\n",
              "      <td>JOHNNIE COCHRAN Ararangije</td>\n",
              "      <td>JOHNNIE COCHRAN Finished</td>\n",
              "    </tr>\n",
              "    <tr>\n",
              "      <th>46</th>\n",
              "      <td>Ubu noneho ariteguye</td>\n",
              "      <td>This time she is ready</td>\n",
              "      <td>Icyo gihe ariteguye</td>\n",
              "      <td>Now he s ready</td>\n",
              "    </tr>\n",
              "    <tr>\n",
              "      <th>28</th>\n",
              "      <td>Koresha amashusho yo guhanga</td>\n",
              "      <td>Use some creative visualization</td>\n",
              "      <td>Koresha amashusho ahanga</td>\n",
              "      <td>Use creative imagery</td>\n",
              "    </tr>\n",
              "    <tr>\n",
              "      <th>74</th>\n",
              "      <td>DeFlores nka Yank</td>\n",
              "      <td>DeFlores as the Yank</td>\n",
              "      <td>DeFlores nka Yank</td>\n",
              "      <td>DeFlorescences as Yank</td>\n",
              "    </tr>\n",
              "    <tr>\n",
              "      <th>23</th>\n",
              "      <td>Ndatera imbere cyane</td>\n",
              "      <td>I m aggressively progrowth</td>\n",
              "      <td>Ndi gutera imbere cyane</td>\n",
              "      <td>I m progressing enormously</td>\n",
              "    </tr>\n",
              "    <tr>\n",
              "      <th>10</th>\n",
              "      <td>JKV Kugisha inama Bwana</td>\n",
              "      <td>JKV Consulting of which Mr</td>\n",
              "      <td>JKV Kugisha inama Bwana</td>\n",
              "      <td>JKV Consulting Mr</td>\n",
              "    </tr>\n",
              "    <tr>\n",
              "      <th>20</th>\n",
              "      <td>Ibyo aribyo byose dukeneye kumenya</td>\n",
              "      <td>That s all we need to know</td>\n",
              "      <td>Ibyo aribyo byose dukeneye kumenya</td>\n",
              "      <td>That s all we need to know</td>\n",
              "    </tr>\n",
              "    <tr>\n",
              "      <th>17</th>\n",
              "      <td>Nagiye mu modoka nsubira mu rugo</td>\n",
              "      <td>I drove off and went back home</td>\n",
              "      <td>Nagiye gutwara imodoka nsubira murugo</td>\n",
              "      <td>I drove to the car and back home</td>\n",
              "    </tr>\n",
              "    <tr>\n",
              "      <th>35</th>\n",
              "      <td>Haracyari imbere y'urupfu mu gikapu</td>\n",
              "      <td>Still ahead death in a duffel bag</td>\n",
              "      <td>Biracyari imbere y'urupfu mumufuka</td>\n",
              "      <td>Still facing death in the bag</td>\n",
              "    </tr>\n",
              "  </tbody>\n",
              "</table>\n",
              "</div>\n",
              "    <div class=\"colab-df-buttons\">\n",
              "\n",
              "  <div class=\"colab-df-container\">\n",
              "    <button class=\"colab-df-convert\" onclick=\"convertToInteractive('df-a0ed5aa2-1eb1-4c19-b3b6-e34323eca70d')\"\n",
              "            title=\"Convert this dataframe to an interactive table.\"\n",
              "            style=\"display:none;\">\n",
              "\n",
              "  <svg xmlns=\"http://www.w3.org/2000/svg\" height=\"24px\" viewBox=\"0 -960 960 960\">\n",
              "    <path d=\"M120-120v-720h720v720H120Zm60-500h600v-160H180v160Zm220 220h160v-160H400v160Zm0 220h160v-160H400v160ZM180-400h160v-160H180v160Zm440 0h160v-160H620v160ZM180-180h160v-160H180v160Zm440 0h160v-160H620v160Z\"/>\n",
              "  </svg>\n",
              "    </button>\n",
              "\n",
              "  <style>\n",
              "    .colab-df-container {\n",
              "      display:flex;\n",
              "      gap: 12px;\n",
              "    }\n",
              "\n",
              "    .colab-df-convert {\n",
              "      background-color: #E8F0FE;\n",
              "      border: none;\n",
              "      border-radius: 50%;\n",
              "      cursor: pointer;\n",
              "      display: none;\n",
              "      fill: #1967D2;\n",
              "      height: 32px;\n",
              "      padding: 0 0 0 0;\n",
              "      width: 32px;\n",
              "    }\n",
              "\n",
              "    .colab-df-convert:hover {\n",
              "      background-color: #E2EBFA;\n",
              "      box-shadow: 0px 1px 2px rgba(60, 64, 67, 0.3), 0px 1px 3px 1px rgba(60, 64, 67, 0.15);\n",
              "      fill: #174EA6;\n",
              "    }\n",
              "\n",
              "    .colab-df-buttons div {\n",
              "      margin-bottom: 4px;\n",
              "    }\n",
              "\n",
              "    [theme=dark] .colab-df-convert {\n",
              "      background-color: #3B4455;\n",
              "      fill: #D2E3FC;\n",
              "    }\n",
              "\n",
              "    [theme=dark] .colab-df-convert:hover {\n",
              "      background-color: #434B5C;\n",
              "      box-shadow: 0px 1px 3px 1px rgba(0, 0, 0, 0.15);\n",
              "      filter: drop-shadow(0px 1px 2px rgba(0, 0, 0, 0.3));\n",
              "      fill: #FFFFFF;\n",
              "    }\n",
              "  </style>\n",
              "\n",
              "    <script>\n",
              "      const buttonEl =\n",
              "        document.querySelector('#df-a0ed5aa2-1eb1-4c19-b3b6-e34323eca70d button.colab-df-convert');\n",
              "      buttonEl.style.display =\n",
              "        google.colab.kernel.accessAllowed ? 'block' : 'none';\n",
              "\n",
              "      async function convertToInteractive(key) {\n",
              "        const element = document.querySelector('#df-a0ed5aa2-1eb1-4c19-b3b6-e34323eca70d');\n",
              "        const dataTable =\n",
              "          await google.colab.kernel.invokeFunction('convertToInteractive',\n",
              "                                                    [key], {});\n",
              "        if (!dataTable) return;\n",
              "\n",
              "        const docLinkHtml = 'Like what you see? Visit the ' +\n",
              "          '<a target=\"_blank\" href=https://colab.research.google.com/notebooks/data_table.ipynb>data table notebook</a>'\n",
              "          + ' to learn more about interactive tables.';\n",
              "        element.innerHTML = '';\n",
              "        dataTable['output_type'] = 'display_data';\n",
              "        await google.colab.output.renderOutput(dataTable, element);\n",
              "        const docLink = document.createElement('div');\n",
              "        docLink.innerHTML = docLinkHtml;\n",
              "        element.appendChild(docLink);\n",
              "      }\n",
              "    </script>\n",
              "  </div>\n",
              "\n",
              "\n",
              "<div id=\"df-e8602be6-4a0e-408f-a6b1-01d72a743437\">\n",
              "  <button class=\"colab-df-quickchart\" onclick=\"quickchart('df-e8602be6-4a0e-408f-a6b1-01d72a743437')\"\n",
              "            title=\"Suggest charts\"\n",
              "            style=\"display:none;\">\n",
              "\n",
              "<svg xmlns=\"http://www.w3.org/2000/svg\" height=\"24px\"viewBox=\"0 0 24 24\"\n",
              "     width=\"24px\">\n",
              "    <g>\n",
              "        <path d=\"M19 3H5c-1.1 0-2 .9-2 2v14c0 1.1.9 2 2 2h14c1.1 0 2-.9 2-2V5c0-1.1-.9-2-2-2zM9 17H7v-7h2v7zm4 0h-2V7h2v10zm4 0h-2v-4h2v4z\"/>\n",
              "    </g>\n",
              "</svg>\n",
              "  </button>\n",
              "\n",
              "<style>\n",
              "  .colab-df-quickchart {\n",
              "      --bg-color: #E8F0FE;\n",
              "      --fill-color: #1967D2;\n",
              "      --hover-bg-color: #E2EBFA;\n",
              "      --hover-fill-color: #174EA6;\n",
              "      --disabled-fill-color: #AAA;\n",
              "      --disabled-bg-color: #DDD;\n",
              "  }\n",
              "\n",
              "  [theme=dark] .colab-df-quickchart {\n",
              "      --bg-color: #3B4455;\n",
              "      --fill-color: #D2E3FC;\n",
              "      --hover-bg-color: #434B5C;\n",
              "      --hover-fill-color: #FFFFFF;\n",
              "      --disabled-bg-color: #3B4455;\n",
              "      --disabled-fill-color: #666;\n",
              "  }\n",
              "\n",
              "  .colab-df-quickchart {\n",
              "    background-color: var(--bg-color);\n",
              "    border: none;\n",
              "    border-radius: 50%;\n",
              "    cursor: pointer;\n",
              "    display: none;\n",
              "    fill: var(--fill-color);\n",
              "    height: 32px;\n",
              "    padding: 0;\n",
              "    width: 32px;\n",
              "  }\n",
              "\n",
              "  .colab-df-quickchart:hover {\n",
              "    background-color: var(--hover-bg-color);\n",
              "    box-shadow: 0 1px 2px rgba(60, 64, 67, 0.3), 0 1px 3px 1px rgba(60, 64, 67, 0.15);\n",
              "    fill: var(--button-hover-fill-color);\n",
              "  }\n",
              "\n",
              "  .colab-df-quickchart-complete:disabled,\n",
              "  .colab-df-quickchart-complete:disabled:hover {\n",
              "    background-color: var(--disabled-bg-color);\n",
              "    fill: var(--disabled-fill-color);\n",
              "    box-shadow: none;\n",
              "  }\n",
              "\n",
              "  .colab-df-spinner {\n",
              "    border: 2px solid var(--fill-color);\n",
              "    border-color: transparent;\n",
              "    border-bottom-color: var(--fill-color);\n",
              "    animation:\n",
              "      spin 1s steps(1) infinite;\n",
              "  }\n",
              "\n",
              "  @keyframes spin {\n",
              "    0% {\n",
              "      border-color: transparent;\n",
              "      border-bottom-color: var(--fill-color);\n",
              "      border-left-color: var(--fill-color);\n",
              "    }\n",
              "    20% {\n",
              "      border-color: transparent;\n",
              "      border-left-color: var(--fill-color);\n",
              "      border-top-color: var(--fill-color);\n",
              "    }\n",
              "    30% {\n",
              "      border-color: transparent;\n",
              "      border-left-color: var(--fill-color);\n",
              "      border-top-color: var(--fill-color);\n",
              "      border-right-color: var(--fill-color);\n",
              "    }\n",
              "    40% {\n",
              "      border-color: transparent;\n",
              "      border-right-color: var(--fill-color);\n",
              "      border-top-color: var(--fill-color);\n",
              "    }\n",
              "    60% {\n",
              "      border-color: transparent;\n",
              "      border-right-color: var(--fill-color);\n",
              "    }\n",
              "    80% {\n",
              "      border-color: transparent;\n",
              "      border-right-color: var(--fill-color);\n",
              "      border-bottom-color: var(--fill-color);\n",
              "    }\n",
              "    90% {\n",
              "      border-color: transparent;\n",
              "      border-bottom-color: var(--fill-color);\n",
              "    }\n",
              "  }\n",
              "</style>\n",
              "\n",
              "  <script>\n",
              "    async function quickchart(key) {\n",
              "      const quickchartButtonEl =\n",
              "        document.querySelector('#' + key + ' button');\n",
              "      quickchartButtonEl.disabled = true;  // To prevent multiple clicks.\n",
              "      quickchartButtonEl.classList.add('colab-df-spinner');\n",
              "      try {\n",
              "        const charts = await google.colab.kernel.invokeFunction(\n",
              "            'suggestCharts', [key], {});\n",
              "      } catch (error) {\n",
              "        console.error('Error during call to suggestCharts:', error);\n",
              "      }\n",
              "      quickchartButtonEl.classList.remove('colab-df-spinner');\n",
              "      quickchartButtonEl.classList.add('colab-df-quickchart-complete');\n",
              "    }\n",
              "    (() => {\n",
              "      let quickchartButtonEl =\n",
              "        document.querySelector('#df-e8602be6-4a0e-408f-a6b1-01d72a743437 button');\n",
              "      quickchartButtonEl.style.display =\n",
              "        google.colab.kernel.accessAllowed ? 'block' : 'none';\n",
              "    })();\n",
              "  </script>\n",
              "</div>\n",
              "\n",
              "    </div>\n",
              "  </div>\n"
            ],
            "application/vnd.google.colaboratory.intrinsic+json": {
              "type": "dataframe",
              "summary": "{\n  \"name\": \"df_trial\",\n  \"rows\": 10,\n  \"fields\": [\n    {\n      \"column\": \"kin\",\n      \"properties\": {\n        \"dtype\": \"string\",\n        \"num_unique_values\": 10,\n        \"samples\": [\n          \"Nagiye mu modoka nsubira mu rugo\",\n          \"JOHNNIE COCHRAN Yarangije\",\n          \"Ndatera imbere cyane\"\n        ],\n        \"semantic_type\": \"\",\n        \"description\": \"\"\n      }\n    },\n    {\n      \"column\": \"eng\",\n      \"properties\": {\n        \"dtype\": \"string\",\n        \"num_unique_values\": 10,\n        \"samples\": [\n          \"I drove off and went back home\",\n          \"JOHNNIE COCHRAN Is she finished\",\n          \"I m aggressively progrowth\"\n        ],\n        \"semantic_type\": \"\",\n        \"description\": \"\"\n      }\n    },\n    {\n      \"column\": \"kin_translated\",\n      \"properties\": {\n        \"dtype\": \"string\",\n        \"num_unique_values\": 10,\n        \"samples\": [\n          \"Nagiye gutwara imodoka nsubira murugo\",\n          \"JOHNNIE COCHRAN Ararangije\",\n          \"Ndi gutera imbere cyane\"\n        ],\n        \"semantic_type\": \"\",\n        \"description\": \"\"\n      }\n    },\n    {\n      \"column\": \"eng_translated\",\n      \"properties\": {\n        \"dtype\": \"string\",\n        \"num_unique_values\": 10,\n        \"samples\": [\n          \"I drove to the car and back home\",\n          \"JOHNNIE COCHRAN Finished\",\n          \"I m progressing enormously\"\n        ],\n        \"semantic_type\": \"\",\n        \"description\": \"\"\n      }\n    }\n  ]\n}"
            }
          },
          "metadata": {},
          "execution_count": 66
        }
      ]
    },
    {
      "cell_type": "markdown",
      "source": [
        "These translations also apprear quite reasonable. We will see what the average word overlap for the two translations are:"
      ],
      "metadata": {
        "id": "yqgUMONrQq25"
      }
    },
    {
      "cell_type": "code",
      "source": [
        "print((df_trial.eng == df_trial.eng_translated).mean())\n",
        "print((df_trial.kin == df_trial.kin_translated).mean())"
      ],
      "metadata": {
        "id": "uCEO4dSgJYKE",
        "colab": {
          "base_uri": "https://localhost:8080/"
        },
        "outputId": "09515c91-8deb-4c75-f114-7e66a520d77e"
      },
      "execution_count": 67,
      "outputs": [
        {
          "output_type": "stream",
          "name": "stdout",
          "text": [
            "0.14\n",
            "0.26\n"
          ]
        }
      ]
    },
    {
      "cell_type": "markdown",
      "source": [
        "We will test on one more metric, the edit distance. The edit distance measures how many character insertions, deletions, and subsititions are needed to go from the source word to the translated version."
      ],
      "metadata": {
        "id": "1ftgMPOLQ_td"
      }
    },
    {
      "cell_type": "code",
      "source": [
        "!pip install editdistance"
      ],
      "metadata": {
        "id": "9NEfm2fmJm1S",
        "colab": {
          "base_uri": "https://localhost:8080/"
        },
        "outputId": "95b3b87d-3302-4f8b-c6b8-9cbd1379b043"
      },
      "execution_count": 68,
      "outputs": [
        {
          "output_type": "stream",
          "name": "stdout",
          "text": [
            "Requirement already satisfied: editdistance in /usr/local/lib/python3.10/dist-packages (0.6.2)\n"
          ]
        }
      ]
    },
    {
      "cell_type": "code",
      "source": [
        "import editdistance\n",
        "\n",
        "def ed_similarity(text1, text2):\n",
        "    return max(0, 1 - editdistance.eval(text1, text2) / min(len(text1), len(text2)))\n",
        "\n",
        "print(ed_similarity('dog', 'cafeteria'))\n",
        "print(ed_similarity('dog', 'dung'))\n",
        "print(ed_similarity('dog', 'dug'))"
      ],
      "metadata": {
        "id": "NxxFrdC7JrS6",
        "colab": {
          "base_uri": "https://localhost:8080/"
        },
        "outputId": "87a63f64-5ff2-4116-be2c-cbd22562a9ff"
      },
      "execution_count": 80,
      "outputs": [
        {
          "output_type": "stream",
          "name": "stdout",
          "text": [
            "0\n",
            "0.33333333333333337\n",
            "1.0\n"
          ]
        }
      ]
    },
    {
      "cell_type": "code",
      "source": [
        "pd.Series([ed_similarity(row.eng, row.eng_translated) for row in df_trial.itertuples()]).describe()"
      ],
      "metadata": {
        "id": "EjkvAyN9JyXg",
        "colab": {
          "base_uri": "https://localhost:8080/"
        },
        "outputId": "f3001e55-c290-43ef-aef6-8b4532fb7306"
      },
      "execution_count": 70,
      "outputs": [
        {
          "output_type": "execute_result",
          "data": {
            "text/plain": [
              "count    100.000000\n",
              "mean       0.601231\n",
              "std        0.284621\n",
              "min        0.000000\n",
              "25%        0.443089\n",
              "50%        0.609524\n",
              "75%        0.808150\n",
              "max        1.000000\n",
              "dtype: float64"
            ]
          },
          "metadata": {},
          "execution_count": 70
        }
      ]
    },
    {
      "cell_type": "code",
      "source": [
        "pd.Series([ed_similarity(row.kin, row.kin_translated) for row in df_trial.itertuples()]).describe()"
      ],
      "metadata": {
        "id": "NXm7oczQKknv",
        "colab": {
          "base_uri": "https://localhost:8080/"
        },
        "outputId": "3c3fc730-c45f-4201-ae44-b3c4ebfa013f"
      },
      "execution_count": 71,
      "outputs": [
        {
          "output_type": "execute_result",
          "data": {
            "text/plain": [
              "count    100.000000\n",
              "mean       0.735636\n",
              "std        0.251979\n",
              "min        0.000000\n",
              "25%        0.573916\n",
              "50%        0.764171\n",
              "75%        1.000000\n",
              "max        1.000000\n",
              "dtype: float64"
            ]
          },
          "metadata": {},
          "execution_count": 71
        }
      ]
    },
    {
      "cell_type": "markdown",
      "source": [
        "This is also quite alot of overlap, our translations were close to the source translation!"
      ],
      "metadata": {
        "id": "RqTsn0KNRZGG"
      }
    },
    {
      "cell_type": "code",
      "source": [
        "df_trial.index.name = \"row_id\"\n",
        "model_load_name = '/content/drive/MyDrive'"
      ],
      "metadata": {
        "id": "-OL-s6bK6UIE"
      },
      "execution_count": 72,
      "outputs": []
    },
    {
      "cell_type": "code",
      "source": [
        "df_trial.to_csv(model_load_name + \"/dev_set_translated.tsv\", sep=\"\\t\")"
      ],
      "metadata": {
        "id": "DjmFAfB355Ss"
      },
      "execution_count": 73,
      "outputs": []
    },
    {
      "cell_type": "markdown",
      "source": [
        "Now, to give more meaning to these evaluation metrics, let's compare them to the baseline model, without any finetuing. We will load the original NLLB model from Hugging Face:"
      ],
      "metadata": {
        "id": "66sAzGnX6clC"
      }
    },
    {
      "cell_type": "code",
      "source": [
        "from transformers import AutoTokenizer, AutoModelForSeq2SeqLM\n",
        "\n",
        "tokenizer = AutoTokenizer.from_pretrained(\"facebook/nllb-200-distilled-600M\")\n",
        "model = AutoModelForSeq2SeqLM.from_pretrained(\"facebook/nllb-200-distilled-600M\")"
      ],
      "metadata": {
        "id": "7Ic0aPUj6kS5",
        "colab": {
          "base_uri": "https://localhost:8080/"
        },
        "outputId": "65e966d6-8ac3-4dfb-9b31-bd348d50557d"
      },
      "execution_count": 75,
      "outputs": [
        {
          "output_type": "stream",
          "name": "stderr",
          "text": [
            "/usr/local/lib/python3.10/dist-packages/huggingface_hub/file_download.py:1132: FutureWarning: `resume_download` is deprecated and will be removed in version 1.0.0. Downloads always resume when possible. If you want to force a new download, use `force_download=True`.\n",
            "  warnings.warn(\n"
          ]
        }
      ]
    },
    {
      "cell_type": "code",
      "source": [
        "df_trial['kin_translated2'] = batched_translate(df_trial.eng, src_lang='eng_Latn', tgt_lang='kin_Latn')\n",
        "#df_trial['eng_translated2'] = [translate(t, 'kin_Latn', 'eng_Latn')[0] for t in tqdm(df_trial.kin)]"
      ],
      "metadata": {
        "id": "5-s-VKmn7Lzk",
        "colab": {
          "base_uri": "https://localhost:8080/",
          "height": 176,
          "referenced_widgets": [
            "0c8542ce00724d7da587a62947043e59",
            "1c76cfb431ea4cea94119097122d3043",
            "d9880b206a2847a0b69cc4ab8b10d3e8",
            "f2e27fa002ec411bbce3b7268168af04",
            "58c6d15c8cc14c8ab2dc556b59249aa7",
            "ba5d7c3de06c44bda3cca6112f245634",
            "5d63d5ea3c704f119ae47c03a84a17f7",
            "b64dfd8feda14b359d7543ea83cbcd1b",
            "095b4f1fd6e446c5b1230febc264cac1",
            "164620b941664c3988217b04222e3a8e",
            "89c7df65aa034ca8a41dd843c25d5f2f"
          ]
        },
        "outputId": "7b5d4354-6a76-4a92-f60f-765aa6f98f99"
      },
      "execution_count": 76,
      "outputs": [
        {
          "output_type": "display_data",
          "data": {
            "text/plain": [
              "  0%|          | 0/7 [00:00<?, ?it/s]"
            ],
            "application/vnd.jupyter.widget-view+json": {
              "version_major": 2,
              "version_minor": 0,
              "model_id": "0c8542ce00724d7da587a62947043e59"
            }
          },
          "metadata": {}
        },
        {
          "output_type": "stream",
          "name": "stderr",
          "text": [
            "<ipython-input-76-87abcd8b304a>:1: SettingWithCopyWarning: \n",
            "A value is trying to be set on a copy of a slice from a DataFrame.\n",
            "Try using .loc[row_indexer,col_indexer] = value instead\n",
            "\n",
            "See the caveats in the documentation: https://pandas.pydata.org/pandas-docs/stable/user_guide/indexing.html#returning-a-view-versus-a-copy\n",
            "  df_trial['eng_translated2'] = batched_translate(df_trial.eng, src_lang='eng_Latn', tgt_lang='kin_Latn')\n"
          ]
        }
      ]
    },
    {
      "cell_type": "code",
      "source": [
        "df_trial['eng_translated2'] = batched_translate(df_trial.kin, src_lang='kin_Latn', tgt_lang='eng_Latn')\n",
        "#df_trial['kin_translated2'] = [translate(t, 'eng_Latn', 'kin_Latn')[0] for t in tqdm(df_trial.eng)]"
      ],
      "metadata": {
        "id": "F5qW8jzN7QmG",
        "colab": {
          "base_uri": "https://localhost:8080/",
          "height": 176,
          "referenced_widgets": [
            "4c6f932b1917411da28ff79a0fca7332",
            "d58a7cac06014c88b980b43df509fe32",
            "a29d0cbe4ff844899308d67344eda712",
            "625a606dc9774e85929853d397e3239e",
            "32d15b24b74f410e9213fee55eed2a1c",
            "2aec04757dc54707861c2a28bbcc7c6f",
            "f203cd8e35cb40f59bf1b272dd78780d",
            "de13626a24e648d881c3f32078b0ca6d",
            "0a403633410241dbb3de4ff1a204d3ee",
            "f9dbb5da226c4240b0bcf3745d55ff09",
            "7bc6e853ffd84e57aa323be92af81f9d"
          ]
        },
        "outputId": "13ffbc3b-ed37-4f84-e56c-22929167709c"
      },
      "execution_count": 77,
      "outputs": [
        {
          "output_type": "display_data",
          "data": {
            "text/plain": [
              "  0%|          | 0/7 [00:00<?, ?it/s]"
            ],
            "application/vnd.jupyter.widget-view+json": {
              "version_major": 2,
              "version_minor": 0,
              "model_id": "4c6f932b1917411da28ff79a0fca7332"
            }
          },
          "metadata": {}
        },
        {
          "output_type": "stream",
          "name": "stderr",
          "text": [
            "<ipython-input-77-ff6c30b2bd86>:1: SettingWithCopyWarning: \n",
            "A value is trying to be set on a copy of a slice from a DataFrame.\n",
            "Try using .loc[row_indexer,col_indexer] = value instead\n",
            "\n",
            "See the caveats in the documentation: https://pandas.pydata.org/pandas-docs/stable/user_guide/indexing.html#returning-a-view-versus-a-copy\n",
            "  df_trial['kin_translated2'] = batched_translate(df_trial.kin, src_lang='kin_Latn', tgt_lang='eng_Latn')\n"
          ]
        }
      ]
    },
    {
      "cell_type": "code",
      "source": [
        "print(bleu_calc.corpus_score(df_trial['eng_translated2'].tolist(), [df_trial['eng'].tolist()]))\n",
        "print(chrf_calc.corpus_score(df_trial['eng_translated2'].tolist(), [df_trial['eng'].tolist()]))\n",
        "print(bleu_calc.corpus_score(df_trial['kin_translated2'].tolist(), [df_trial['kin'].tolist()]))\n",
        "print(chrf_calc.corpus_score(df_trial['kin_translated2'].tolist(), [df_trial['kin'].tolist()]))"
      ],
      "metadata": {
        "id": "R5YCOHIw7TgW",
        "colab": {
          "base_uri": "https://localhost:8080/"
        },
        "outputId": "3b9aed7c-c281-4af5-f5ef-9593590adaa0"
      },
      "execution_count": 81,
      "outputs": [
        {
          "output_type": "stream",
          "name": "stdout",
          "text": [
            "BLEU = 21.08 47.7/27.0/15.9/9.6 (BP = 1.000 ratio = 1.081 hyp_len = 641 ref_len = 593)\n",
            "chrF2++ = 45.55\n",
            "BLEU = 13.03 34.6/17.7/10.3/4.6 (BP = 1.000 ratio = 1.329 hyp_len = 598 ref_len = 450)\n",
            "chrF2++ = 46.65\n"
          ]
        }
      ]
    },
    {
      "cell_type": "code",
      "source": [
        "pd.Series([ed_similarity(row.eng, row.kin_translated2) for row in df_trial.itertuples()]).describe()"
      ],
      "metadata": {
        "colab": {
          "base_uri": "https://localhost:8080/"
        },
        "id": "emHgEBlASKFY",
        "outputId": "b9451397-087e-4de4-c3fb-26757fa8d4bd"
      },
      "execution_count": 82,
      "outputs": [
        {
          "output_type": "execute_result",
          "data": {
            "text/plain": [
              "count    100.000000\n",
              "mean       0.487518\n",
              "std        0.286381\n",
              "min        0.000000\n",
              "25%        0.280000\n",
              "50%        0.500000\n",
              "75%        0.736253\n",
              "max        1.000000\n",
              "dtype: float64"
            ]
          },
          "metadata": {},
          "execution_count": 82
        }
      ]
    },
    {
      "cell_type": "code",
      "source": [
        "pd.Series([ed_similarity(row.kin, row.eng_translated2) for row in df_trial.itertuples()]).describe()"
      ],
      "metadata": {
        "colab": {
          "base_uri": "https://localhost:8080/"
        },
        "id": "4U12FxxpSOHI",
        "outputId": "352d0f4b-c876-41bb-89af-d1dfc971fc7f"
      },
      "execution_count": 83,
      "outputs": [
        {
          "output_type": "execute_result",
          "data": {
            "text/plain": [
              "count    100.000000\n",
              "mean       0.423698\n",
              "std        0.327217\n",
              "min        0.000000\n",
              "25%        0.114316\n",
              "50%        0.393327\n",
              "75%        0.693144\n",
              "max        1.000000\n",
              "dtype: float64"
            ]
          },
          "metadata": {},
          "execution_count": 83
        }
      ]
    },
    {
      "cell_type": "markdown",
      "source": [
        "There is noticeable improvement in both BLEU and edit distance metrics from the base-line model to our fine-tuned version in both metrics. Kinyarwanda to English went up roughly 75%, and English to Kinyarwanda went up over 100%! This is important, as we trained this model without a premade parallel corpus, the industry standard for builing translators. Instead, we created our own artificial parallel corpus usign only backtranslation. This has lead to a massive jump in BLEU, as well as a noticeable increase in the edit distance metric. Due to limited computational resources, we used a limited number of translations, 50,000 pairs of sentences. Additionally, we only performed 30,000 training steps due to limited amounts of GPU availible. Scaled up, it is possible we would be able to get a BLEU score in the 50's with a corpus with hundreds of thouasands of sentences.\n",
        "\n",
        "In addition to quantatative analysis, some fellow students at Hendrix College who are bilingual in English and Kinyarwanda are qualitatively checking the quality of the translations. When their feedback is complete, it will be posted here as well.  \n",
        "\n",
        "Thank you for completing this tutorial! First, we built a parralel corpus from scratch, using the COCA dataset. Then, we used our parallel corpus to train and fine-tune a NLLB model to translate between English and Kinyarwanda. Finally, we evaluated the model, using inustry standard metrics, and determined that our model's improvements were significant. With this knowledge, you can finetune a NLLB model for any language. Additionally, you should feel more comfortable interacting with large text datasets and hugging face models."
      ],
      "metadata": {
        "id": "NhoikZH1SV5Q"
      }
    },
    {
      "cell_type": "code",
      "source": [
        "df_trial.to_csv(\"/content/drive/MyDrive\" + \"/dev_set_translated.tsv\", sep=\"\\t\")"
      ],
      "metadata": {
        "id": "2JNisawc-hU4"
      },
      "execution_count": 79,
      "outputs": []
    }
  ],
  "metadata": {
    "colab": {
      "provenance": [],
      "gpuType": "T4",
      "include_colab_link": true
    },
    "kernelspec": {
      "display_name": "Python 3",
      "name": "python3"
    },
    "language_info": {
      "name": "python"
    },
    "widgets": {
      "application/vnd.jupyter.widget-state+json": {
        "b5eb797bf12a4c6d927ea66ad4b718c7": {
          "model_module": "@jupyter-widgets/controls",
          "model_name": "HBoxModel",
          "model_module_version": "1.5.0",
          "state": {
            "_dom_classes": [],
            "_model_module": "@jupyter-widgets/controls",
            "_model_module_version": "1.5.0",
            "_model_name": "HBoxModel",
            "_view_count": null,
            "_view_module": "@jupyter-widgets/controls",
            "_view_module_version": "1.5.0",
            "_view_name": "HBoxView",
            "box_style": "",
            "children": [
              "IPY_MODEL_17c0fdf06a9840b2b0d0a2b9ac46b264",
              "IPY_MODEL_2daff02382194d30a11c6bd590fab284",
              "IPY_MODEL_fe8b0539b3a84cf0bbe635b8e767b28e"
            ],
            "layout": "IPY_MODEL_23f36a535f1249909078771637551579"
          }
        },
        "17c0fdf06a9840b2b0d0a2b9ac46b264": {
          "model_module": "@jupyter-widgets/controls",
          "model_name": "HTMLModel",
          "model_module_version": "1.5.0",
          "state": {
            "_dom_classes": [],
            "_model_module": "@jupyter-widgets/controls",
            "_model_module_version": "1.5.0",
            "_model_name": "HTMLModel",
            "_view_count": null,
            "_view_module": "@jupyter-widgets/controls",
            "_view_module_version": "1.5.0",
            "_view_name": "HTMLView",
            "description": "",
            "description_tooltip": null,
            "layout": "IPY_MODEL_2b9974374a6f44dda74ead780c8d0a7d",
            "placeholder": "​",
            "style": "IPY_MODEL_cf70158914e541c5892ae9e5030759dd",
            "value": "100%"
          }
        },
        "2daff02382194d30a11c6bd590fab284": {
          "model_module": "@jupyter-widgets/controls",
          "model_name": "FloatProgressModel",
          "model_module_version": "1.5.0",
          "state": {
            "_dom_classes": [],
            "_model_module": "@jupyter-widgets/controls",
            "_model_module_version": "1.5.0",
            "_model_name": "FloatProgressModel",
            "_view_count": null,
            "_view_module": "@jupyter-widgets/controls",
            "_view_module_version": "1.5.0",
            "_view_name": "ProgressView",
            "bar_style": "success",
            "description": "",
            "description_tooltip": null,
            "layout": "IPY_MODEL_76f3c747b4c343b9921795f65deb8d74",
            "max": 7,
            "min": 0,
            "orientation": "horizontal",
            "style": "IPY_MODEL_4ff5134527ee439e95b480f4f1e2ff94",
            "value": 7
          }
        },
        "fe8b0539b3a84cf0bbe635b8e767b28e": {
          "model_module": "@jupyter-widgets/controls",
          "model_name": "HTMLModel",
          "model_module_version": "1.5.0",
          "state": {
            "_dom_classes": [],
            "_model_module": "@jupyter-widgets/controls",
            "_model_module_version": "1.5.0",
            "_model_name": "HTMLModel",
            "_view_count": null,
            "_view_module": "@jupyter-widgets/controls",
            "_view_module_version": "1.5.0",
            "_view_name": "HTMLView",
            "description": "",
            "description_tooltip": null,
            "layout": "IPY_MODEL_602a4dcfb57c4f45906417ff8bbe9c8a",
            "placeholder": "​",
            "style": "IPY_MODEL_d5cce321e7154006b793d440e805ed7c",
            "value": " 7/7 [02:31&lt;00:00, 16.20s/it]"
          }
        },
        "23f36a535f1249909078771637551579": {
          "model_module": "@jupyter-widgets/base",
          "model_name": "LayoutModel",
          "model_module_version": "1.2.0",
          "state": {
            "_model_module": "@jupyter-widgets/base",
            "_model_module_version": "1.2.0",
            "_model_name": "LayoutModel",
            "_view_count": null,
            "_view_module": "@jupyter-widgets/base",
            "_view_module_version": "1.2.0",
            "_view_name": "LayoutView",
            "align_content": null,
            "align_items": null,
            "align_self": null,
            "border": null,
            "bottom": null,
            "display": null,
            "flex": null,
            "flex_flow": null,
            "grid_area": null,
            "grid_auto_columns": null,
            "grid_auto_flow": null,
            "grid_auto_rows": null,
            "grid_column": null,
            "grid_gap": null,
            "grid_row": null,
            "grid_template_areas": null,
            "grid_template_columns": null,
            "grid_template_rows": null,
            "height": null,
            "justify_content": null,
            "justify_items": null,
            "left": null,
            "margin": null,
            "max_height": null,
            "max_width": null,
            "min_height": null,
            "min_width": null,
            "object_fit": null,
            "object_position": null,
            "order": null,
            "overflow": null,
            "overflow_x": null,
            "overflow_y": null,
            "padding": null,
            "right": null,
            "top": null,
            "visibility": null,
            "width": null
          }
        },
        "2b9974374a6f44dda74ead780c8d0a7d": {
          "model_module": "@jupyter-widgets/base",
          "model_name": "LayoutModel",
          "model_module_version": "1.2.0",
          "state": {
            "_model_module": "@jupyter-widgets/base",
            "_model_module_version": "1.2.0",
            "_model_name": "LayoutModel",
            "_view_count": null,
            "_view_module": "@jupyter-widgets/base",
            "_view_module_version": "1.2.0",
            "_view_name": "LayoutView",
            "align_content": null,
            "align_items": null,
            "align_self": null,
            "border": null,
            "bottom": null,
            "display": null,
            "flex": null,
            "flex_flow": null,
            "grid_area": null,
            "grid_auto_columns": null,
            "grid_auto_flow": null,
            "grid_auto_rows": null,
            "grid_column": null,
            "grid_gap": null,
            "grid_row": null,
            "grid_template_areas": null,
            "grid_template_columns": null,
            "grid_template_rows": null,
            "height": null,
            "justify_content": null,
            "justify_items": null,
            "left": null,
            "margin": null,
            "max_height": null,
            "max_width": null,
            "min_height": null,
            "min_width": null,
            "object_fit": null,
            "object_position": null,
            "order": null,
            "overflow": null,
            "overflow_x": null,
            "overflow_y": null,
            "padding": null,
            "right": null,
            "top": null,
            "visibility": null,
            "width": null
          }
        },
        "cf70158914e541c5892ae9e5030759dd": {
          "model_module": "@jupyter-widgets/controls",
          "model_name": "DescriptionStyleModel",
          "model_module_version": "1.5.0",
          "state": {
            "_model_module": "@jupyter-widgets/controls",
            "_model_module_version": "1.5.0",
            "_model_name": "DescriptionStyleModel",
            "_view_count": null,
            "_view_module": "@jupyter-widgets/base",
            "_view_module_version": "1.2.0",
            "_view_name": "StyleView",
            "description_width": ""
          }
        },
        "76f3c747b4c343b9921795f65deb8d74": {
          "model_module": "@jupyter-widgets/base",
          "model_name": "LayoutModel",
          "model_module_version": "1.2.0",
          "state": {
            "_model_module": "@jupyter-widgets/base",
            "_model_module_version": "1.2.0",
            "_model_name": "LayoutModel",
            "_view_count": null,
            "_view_module": "@jupyter-widgets/base",
            "_view_module_version": "1.2.0",
            "_view_name": "LayoutView",
            "align_content": null,
            "align_items": null,
            "align_self": null,
            "border": null,
            "bottom": null,
            "display": null,
            "flex": null,
            "flex_flow": null,
            "grid_area": null,
            "grid_auto_columns": null,
            "grid_auto_flow": null,
            "grid_auto_rows": null,
            "grid_column": null,
            "grid_gap": null,
            "grid_row": null,
            "grid_template_areas": null,
            "grid_template_columns": null,
            "grid_template_rows": null,
            "height": null,
            "justify_content": null,
            "justify_items": null,
            "left": null,
            "margin": null,
            "max_height": null,
            "max_width": null,
            "min_height": null,
            "min_width": null,
            "object_fit": null,
            "object_position": null,
            "order": null,
            "overflow": null,
            "overflow_x": null,
            "overflow_y": null,
            "padding": null,
            "right": null,
            "top": null,
            "visibility": null,
            "width": null
          }
        },
        "4ff5134527ee439e95b480f4f1e2ff94": {
          "model_module": "@jupyter-widgets/controls",
          "model_name": "ProgressStyleModel",
          "model_module_version": "1.5.0",
          "state": {
            "_model_module": "@jupyter-widgets/controls",
            "_model_module_version": "1.5.0",
            "_model_name": "ProgressStyleModel",
            "_view_count": null,
            "_view_module": "@jupyter-widgets/base",
            "_view_module_version": "1.2.0",
            "_view_name": "StyleView",
            "bar_color": null,
            "description_width": ""
          }
        },
        "602a4dcfb57c4f45906417ff8bbe9c8a": {
          "model_module": "@jupyter-widgets/base",
          "model_name": "LayoutModel",
          "model_module_version": "1.2.0",
          "state": {
            "_model_module": "@jupyter-widgets/base",
            "_model_module_version": "1.2.0",
            "_model_name": "LayoutModel",
            "_view_count": null,
            "_view_module": "@jupyter-widgets/base",
            "_view_module_version": "1.2.0",
            "_view_name": "LayoutView",
            "align_content": null,
            "align_items": null,
            "align_self": null,
            "border": null,
            "bottom": null,
            "display": null,
            "flex": null,
            "flex_flow": null,
            "grid_area": null,
            "grid_auto_columns": null,
            "grid_auto_flow": null,
            "grid_auto_rows": null,
            "grid_column": null,
            "grid_gap": null,
            "grid_row": null,
            "grid_template_areas": null,
            "grid_template_columns": null,
            "grid_template_rows": null,
            "height": null,
            "justify_content": null,
            "justify_items": null,
            "left": null,
            "margin": null,
            "max_height": null,
            "max_width": null,
            "min_height": null,
            "min_width": null,
            "object_fit": null,
            "object_position": null,
            "order": null,
            "overflow": null,
            "overflow_x": null,
            "overflow_y": null,
            "padding": null,
            "right": null,
            "top": null,
            "visibility": null,
            "width": null
          }
        },
        "d5cce321e7154006b793d440e805ed7c": {
          "model_module": "@jupyter-widgets/controls",
          "model_name": "DescriptionStyleModel",
          "model_module_version": "1.5.0",
          "state": {
            "_model_module": "@jupyter-widgets/controls",
            "_model_module_version": "1.5.0",
            "_model_name": "DescriptionStyleModel",
            "_view_count": null,
            "_view_module": "@jupyter-widgets/base",
            "_view_module_version": "1.2.0",
            "_view_name": "StyleView",
            "description_width": ""
          }
        },
        "dd00f480a0c8489c9626265d220c568c": {
          "model_module": "@jupyter-widgets/controls",
          "model_name": "HBoxModel",
          "model_module_version": "1.5.0",
          "state": {
            "_dom_classes": [],
            "_model_module": "@jupyter-widgets/controls",
            "_model_module_version": "1.5.0",
            "_model_name": "HBoxModel",
            "_view_count": null,
            "_view_module": "@jupyter-widgets/controls",
            "_view_module_version": "1.5.0",
            "_view_name": "HBoxView",
            "box_style": "",
            "children": [
              "IPY_MODEL_a638ecd7e5064efc8ee84a15e3ba5833",
              "IPY_MODEL_24ed30554e894d74a24451443a3f6bd3",
              "IPY_MODEL_9579c938d86646fdbd893b110f783f5b"
            ],
            "layout": "IPY_MODEL_c9768ccad8764445b0446538e1bdd672"
          }
        },
        "a638ecd7e5064efc8ee84a15e3ba5833": {
          "model_module": "@jupyter-widgets/controls",
          "model_name": "HTMLModel",
          "model_module_version": "1.5.0",
          "state": {
            "_dom_classes": [],
            "_model_module": "@jupyter-widgets/controls",
            "_model_module_version": "1.5.0",
            "_model_name": "HTMLModel",
            "_view_count": null,
            "_view_module": "@jupyter-widgets/controls",
            "_view_module_version": "1.5.0",
            "_view_name": "HTMLView",
            "description": "",
            "description_tooltip": null,
            "layout": "IPY_MODEL_20790eacdb774be7939cabb63c2932be",
            "placeholder": "​",
            "style": "IPY_MODEL_a8e3991d6b904728a7004c1f809d63ef",
            "value": "100%"
          }
        },
        "24ed30554e894d74a24451443a3f6bd3": {
          "model_module": "@jupyter-widgets/controls",
          "model_name": "FloatProgressModel",
          "model_module_version": "1.5.0",
          "state": {
            "_dom_classes": [],
            "_model_module": "@jupyter-widgets/controls",
            "_model_module_version": "1.5.0",
            "_model_name": "FloatProgressModel",
            "_view_count": null,
            "_view_module": "@jupyter-widgets/controls",
            "_view_module_version": "1.5.0",
            "_view_name": "ProgressView",
            "bar_style": "success",
            "description": "",
            "description_tooltip": null,
            "layout": "IPY_MODEL_8a63c4ea3696449bb116b7b9e5133c58",
            "max": 7,
            "min": 0,
            "orientation": "horizontal",
            "style": "IPY_MODEL_10bcebb9705047f9b51c5674eaeaa297",
            "value": 7
          }
        },
        "9579c938d86646fdbd893b110f783f5b": {
          "model_module": "@jupyter-widgets/controls",
          "model_name": "HTMLModel",
          "model_module_version": "1.5.0",
          "state": {
            "_dom_classes": [],
            "_model_module": "@jupyter-widgets/controls",
            "_model_module_version": "1.5.0",
            "_model_name": "HTMLModel",
            "_view_count": null,
            "_view_module": "@jupyter-widgets/controls",
            "_view_module_version": "1.5.0",
            "_view_name": "HTMLView",
            "description": "",
            "description_tooltip": null,
            "layout": "IPY_MODEL_8502c7bc6e2745b397b9f451c6567890",
            "placeholder": "​",
            "style": "IPY_MODEL_8b35ea0e190b47ad8ea8625a577c1771",
            "value": " 7/7 [02:14&lt;00:00, 14.95s/it]"
          }
        },
        "c9768ccad8764445b0446538e1bdd672": {
          "model_module": "@jupyter-widgets/base",
          "model_name": "LayoutModel",
          "model_module_version": "1.2.0",
          "state": {
            "_model_module": "@jupyter-widgets/base",
            "_model_module_version": "1.2.0",
            "_model_name": "LayoutModel",
            "_view_count": null,
            "_view_module": "@jupyter-widgets/base",
            "_view_module_version": "1.2.0",
            "_view_name": "LayoutView",
            "align_content": null,
            "align_items": null,
            "align_self": null,
            "border": null,
            "bottom": null,
            "display": null,
            "flex": null,
            "flex_flow": null,
            "grid_area": null,
            "grid_auto_columns": null,
            "grid_auto_flow": null,
            "grid_auto_rows": null,
            "grid_column": null,
            "grid_gap": null,
            "grid_row": null,
            "grid_template_areas": null,
            "grid_template_columns": null,
            "grid_template_rows": null,
            "height": null,
            "justify_content": null,
            "justify_items": null,
            "left": null,
            "margin": null,
            "max_height": null,
            "max_width": null,
            "min_height": null,
            "min_width": null,
            "object_fit": null,
            "object_position": null,
            "order": null,
            "overflow": null,
            "overflow_x": null,
            "overflow_y": null,
            "padding": null,
            "right": null,
            "top": null,
            "visibility": null,
            "width": null
          }
        },
        "20790eacdb774be7939cabb63c2932be": {
          "model_module": "@jupyter-widgets/base",
          "model_name": "LayoutModel",
          "model_module_version": "1.2.0",
          "state": {
            "_model_module": "@jupyter-widgets/base",
            "_model_module_version": "1.2.0",
            "_model_name": "LayoutModel",
            "_view_count": null,
            "_view_module": "@jupyter-widgets/base",
            "_view_module_version": "1.2.0",
            "_view_name": "LayoutView",
            "align_content": null,
            "align_items": null,
            "align_self": null,
            "border": null,
            "bottom": null,
            "display": null,
            "flex": null,
            "flex_flow": null,
            "grid_area": null,
            "grid_auto_columns": null,
            "grid_auto_flow": null,
            "grid_auto_rows": null,
            "grid_column": null,
            "grid_gap": null,
            "grid_row": null,
            "grid_template_areas": null,
            "grid_template_columns": null,
            "grid_template_rows": null,
            "height": null,
            "justify_content": null,
            "justify_items": null,
            "left": null,
            "margin": null,
            "max_height": null,
            "max_width": null,
            "min_height": null,
            "min_width": null,
            "object_fit": null,
            "object_position": null,
            "order": null,
            "overflow": null,
            "overflow_x": null,
            "overflow_y": null,
            "padding": null,
            "right": null,
            "top": null,
            "visibility": null,
            "width": null
          }
        },
        "a8e3991d6b904728a7004c1f809d63ef": {
          "model_module": "@jupyter-widgets/controls",
          "model_name": "DescriptionStyleModel",
          "model_module_version": "1.5.0",
          "state": {
            "_model_module": "@jupyter-widgets/controls",
            "_model_module_version": "1.5.0",
            "_model_name": "DescriptionStyleModel",
            "_view_count": null,
            "_view_module": "@jupyter-widgets/base",
            "_view_module_version": "1.2.0",
            "_view_name": "StyleView",
            "description_width": ""
          }
        },
        "8a63c4ea3696449bb116b7b9e5133c58": {
          "model_module": "@jupyter-widgets/base",
          "model_name": "LayoutModel",
          "model_module_version": "1.2.0",
          "state": {
            "_model_module": "@jupyter-widgets/base",
            "_model_module_version": "1.2.0",
            "_model_name": "LayoutModel",
            "_view_count": null,
            "_view_module": "@jupyter-widgets/base",
            "_view_module_version": "1.2.0",
            "_view_name": "LayoutView",
            "align_content": null,
            "align_items": null,
            "align_self": null,
            "border": null,
            "bottom": null,
            "display": null,
            "flex": null,
            "flex_flow": null,
            "grid_area": null,
            "grid_auto_columns": null,
            "grid_auto_flow": null,
            "grid_auto_rows": null,
            "grid_column": null,
            "grid_gap": null,
            "grid_row": null,
            "grid_template_areas": null,
            "grid_template_columns": null,
            "grid_template_rows": null,
            "height": null,
            "justify_content": null,
            "justify_items": null,
            "left": null,
            "margin": null,
            "max_height": null,
            "max_width": null,
            "min_height": null,
            "min_width": null,
            "object_fit": null,
            "object_position": null,
            "order": null,
            "overflow": null,
            "overflow_x": null,
            "overflow_y": null,
            "padding": null,
            "right": null,
            "top": null,
            "visibility": null,
            "width": null
          }
        },
        "10bcebb9705047f9b51c5674eaeaa297": {
          "model_module": "@jupyter-widgets/controls",
          "model_name": "ProgressStyleModel",
          "model_module_version": "1.5.0",
          "state": {
            "_model_module": "@jupyter-widgets/controls",
            "_model_module_version": "1.5.0",
            "_model_name": "ProgressStyleModel",
            "_view_count": null,
            "_view_module": "@jupyter-widgets/base",
            "_view_module_version": "1.2.0",
            "_view_name": "StyleView",
            "bar_color": null,
            "description_width": ""
          }
        },
        "8502c7bc6e2745b397b9f451c6567890": {
          "model_module": "@jupyter-widgets/base",
          "model_name": "LayoutModel",
          "model_module_version": "1.2.0",
          "state": {
            "_model_module": "@jupyter-widgets/base",
            "_model_module_version": "1.2.0",
            "_model_name": "LayoutModel",
            "_view_count": null,
            "_view_module": "@jupyter-widgets/base",
            "_view_module_version": "1.2.0",
            "_view_name": "LayoutView",
            "align_content": null,
            "align_items": null,
            "align_self": null,
            "border": null,
            "bottom": null,
            "display": null,
            "flex": null,
            "flex_flow": null,
            "grid_area": null,
            "grid_auto_columns": null,
            "grid_auto_flow": null,
            "grid_auto_rows": null,
            "grid_column": null,
            "grid_gap": null,
            "grid_row": null,
            "grid_template_areas": null,
            "grid_template_columns": null,
            "grid_template_rows": null,
            "height": null,
            "justify_content": null,
            "justify_items": null,
            "left": null,
            "margin": null,
            "max_height": null,
            "max_width": null,
            "min_height": null,
            "min_width": null,
            "object_fit": null,
            "object_position": null,
            "order": null,
            "overflow": null,
            "overflow_x": null,
            "overflow_y": null,
            "padding": null,
            "right": null,
            "top": null,
            "visibility": null,
            "width": null
          }
        },
        "8b35ea0e190b47ad8ea8625a577c1771": {
          "model_module": "@jupyter-widgets/controls",
          "model_name": "DescriptionStyleModel",
          "model_module_version": "1.5.0",
          "state": {
            "_model_module": "@jupyter-widgets/controls",
            "_model_module_version": "1.5.0",
            "_model_name": "DescriptionStyleModel",
            "_view_count": null,
            "_view_module": "@jupyter-widgets/base",
            "_view_module_version": "1.2.0",
            "_view_name": "StyleView",
            "description_width": ""
          }
        },
        "0c8542ce00724d7da587a62947043e59": {
          "model_module": "@jupyter-widgets/controls",
          "model_name": "HBoxModel",
          "model_module_version": "1.5.0",
          "state": {
            "_dom_classes": [],
            "_model_module": "@jupyter-widgets/controls",
            "_model_module_version": "1.5.0",
            "_model_name": "HBoxModel",
            "_view_count": null,
            "_view_module": "@jupyter-widgets/controls",
            "_view_module_version": "1.5.0",
            "_view_name": "HBoxView",
            "box_style": "",
            "children": [
              "IPY_MODEL_1c76cfb431ea4cea94119097122d3043",
              "IPY_MODEL_d9880b206a2847a0b69cc4ab8b10d3e8",
              "IPY_MODEL_f2e27fa002ec411bbce3b7268168af04"
            ],
            "layout": "IPY_MODEL_58c6d15c8cc14c8ab2dc556b59249aa7"
          }
        },
        "1c76cfb431ea4cea94119097122d3043": {
          "model_module": "@jupyter-widgets/controls",
          "model_name": "HTMLModel",
          "model_module_version": "1.5.0",
          "state": {
            "_dom_classes": [],
            "_model_module": "@jupyter-widgets/controls",
            "_model_module_version": "1.5.0",
            "_model_name": "HTMLModel",
            "_view_count": null,
            "_view_module": "@jupyter-widgets/controls",
            "_view_module_version": "1.5.0",
            "_view_name": "HTMLView",
            "description": "",
            "description_tooltip": null,
            "layout": "IPY_MODEL_ba5d7c3de06c44bda3cca6112f245634",
            "placeholder": "​",
            "style": "IPY_MODEL_5d63d5ea3c704f119ae47c03a84a17f7",
            "value": "100%"
          }
        },
        "d9880b206a2847a0b69cc4ab8b10d3e8": {
          "model_module": "@jupyter-widgets/controls",
          "model_name": "FloatProgressModel",
          "model_module_version": "1.5.0",
          "state": {
            "_dom_classes": [],
            "_model_module": "@jupyter-widgets/controls",
            "_model_module_version": "1.5.0",
            "_model_name": "FloatProgressModel",
            "_view_count": null,
            "_view_module": "@jupyter-widgets/controls",
            "_view_module_version": "1.5.0",
            "_view_name": "ProgressView",
            "bar_style": "success",
            "description": "",
            "description_tooltip": null,
            "layout": "IPY_MODEL_b64dfd8feda14b359d7543ea83cbcd1b",
            "max": 7,
            "min": 0,
            "orientation": "horizontal",
            "style": "IPY_MODEL_095b4f1fd6e446c5b1230febc264cac1",
            "value": 7
          }
        },
        "f2e27fa002ec411bbce3b7268168af04": {
          "model_module": "@jupyter-widgets/controls",
          "model_name": "HTMLModel",
          "model_module_version": "1.5.0",
          "state": {
            "_dom_classes": [],
            "_model_module": "@jupyter-widgets/controls",
            "_model_module_version": "1.5.0",
            "_model_name": "HTMLModel",
            "_view_count": null,
            "_view_module": "@jupyter-widgets/controls",
            "_view_module_version": "1.5.0",
            "_view_name": "HTMLView",
            "description": "",
            "description_tooltip": null,
            "layout": "IPY_MODEL_164620b941664c3988217b04222e3a8e",
            "placeholder": "​",
            "style": "IPY_MODEL_89c7df65aa034ca8a41dd843c25d5f2f",
            "value": " 7/7 [04:52&lt;00:00, 31.44s/it]"
          }
        },
        "58c6d15c8cc14c8ab2dc556b59249aa7": {
          "model_module": "@jupyter-widgets/base",
          "model_name": "LayoutModel",
          "model_module_version": "1.2.0",
          "state": {
            "_model_module": "@jupyter-widgets/base",
            "_model_module_version": "1.2.0",
            "_model_name": "LayoutModel",
            "_view_count": null,
            "_view_module": "@jupyter-widgets/base",
            "_view_module_version": "1.2.0",
            "_view_name": "LayoutView",
            "align_content": null,
            "align_items": null,
            "align_self": null,
            "border": null,
            "bottom": null,
            "display": null,
            "flex": null,
            "flex_flow": null,
            "grid_area": null,
            "grid_auto_columns": null,
            "grid_auto_flow": null,
            "grid_auto_rows": null,
            "grid_column": null,
            "grid_gap": null,
            "grid_row": null,
            "grid_template_areas": null,
            "grid_template_columns": null,
            "grid_template_rows": null,
            "height": null,
            "justify_content": null,
            "justify_items": null,
            "left": null,
            "margin": null,
            "max_height": null,
            "max_width": null,
            "min_height": null,
            "min_width": null,
            "object_fit": null,
            "object_position": null,
            "order": null,
            "overflow": null,
            "overflow_x": null,
            "overflow_y": null,
            "padding": null,
            "right": null,
            "top": null,
            "visibility": null,
            "width": null
          }
        },
        "ba5d7c3de06c44bda3cca6112f245634": {
          "model_module": "@jupyter-widgets/base",
          "model_name": "LayoutModel",
          "model_module_version": "1.2.0",
          "state": {
            "_model_module": "@jupyter-widgets/base",
            "_model_module_version": "1.2.0",
            "_model_name": "LayoutModel",
            "_view_count": null,
            "_view_module": "@jupyter-widgets/base",
            "_view_module_version": "1.2.0",
            "_view_name": "LayoutView",
            "align_content": null,
            "align_items": null,
            "align_self": null,
            "border": null,
            "bottom": null,
            "display": null,
            "flex": null,
            "flex_flow": null,
            "grid_area": null,
            "grid_auto_columns": null,
            "grid_auto_flow": null,
            "grid_auto_rows": null,
            "grid_column": null,
            "grid_gap": null,
            "grid_row": null,
            "grid_template_areas": null,
            "grid_template_columns": null,
            "grid_template_rows": null,
            "height": null,
            "justify_content": null,
            "justify_items": null,
            "left": null,
            "margin": null,
            "max_height": null,
            "max_width": null,
            "min_height": null,
            "min_width": null,
            "object_fit": null,
            "object_position": null,
            "order": null,
            "overflow": null,
            "overflow_x": null,
            "overflow_y": null,
            "padding": null,
            "right": null,
            "top": null,
            "visibility": null,
            "width": null
          }
        },
        "5d63d5ea3c704f119ae47c03a84a17f7": {
          "model_module": "@jupyter-widgets/controls",
          "model_name": "DescriptionStyleModel",
          "model_module_version": "1.5.0",
          "state": {
            "_model_module": "@jupyter-widgets/controls",
            "_model_module_version": "1.5.0",
            "_model_name": "DescriptionStyleModel",
            "_view_count": null,
            "_view_module": "@jupyter-widgets/base",
            "_view_module_version": "1.2.0",
            "_view_name": "StyleView",
            "description_width": ""
          }
        },
        "b64dfd8feda14b359d7543ea83cbcd1b": {
          "model_module": "@jupyter-widgets/base",
          "model_name": "LayoutModel",
          "model_module_version": "1.2.0",
          "state": {
            "_model_module": "@jupyter-widgets/base",
            "_model_module_version": "1.2.0",
            "_model_name": "LayoutModel",
            "_view_count": null,
            "_view_module": "@jupyter-widgets/base",
            "_view_module_version": "1.2.0",
            "_view_name": "LayoutView",
            "align_content": null,
            "align_items": null,
            "align_self": null,
            "border": null,
            "bottom": null,
            "display": null,
            "flex": null,
            "flex_flow": null,
            "grid_area": null,
            "grid_auto_columns": null,
            "grid_auto_flow": null,
            "grid_auto_rows": null,
            "grid_column": null,
            "grid_gap": null,
            "grid_row": null,
            "grid_template_areas": null,
            "grid_template_columns": null,
            "grid_template_rows": null,
            "height": null,
            "justify_content": null,
            "justify_items": null,
            "left": null,
            "margin": null,
            "max_height": null,
            "max_width": null,
            "min_height": null,
            "min_width": null,
            "object_fit": null,
            "object_position": null,
            "order": null,
            "overflow": null,
            "overflow_x": null,
            "overflow_y": null,
            "padding": null,
            "right": null,
            "top": null,
            "visibility": null,
            "width": null
          }
        },
        "095b4f1fd6e446c5b1230febc264cac1": {
          "model_module": "@jupyter-widgets/controls",
          "model_name": "ProgressStyleModel",
          "model_module_version": "1.5.0",
          "state": {
            "_model_module": "@jupyter-widgets/controls",
            "_model_module_version": "1.5.0",
            "_model_name": "ProgressStyleModel",
            "_view_count": null,
            "_view_module": "@jupyter-widgets/base",
            "_view_module_version": "1.2.0",
            "_view_name": "StyleView",
            "bar_color": null,
            "description_width": ""
          }
        },
        "164620b941664c3988217b04222e3a8e": {
          "model_module": "@jupyter-widgets/base",
          "model_name": "LayoutModel",
          "model_module_version": "1.2.0",
          "state": {
            "_model_module": "@jupyter-widgets/base",
            "_model_module_version": "1.2.0",
            "_model_name": "LayoutModel",
            "_view_count": null,
            "_view_module": "@jupyter-widgets/base",
            "_view_module_version": "1.2.0",
            "_view_name": "LayoutView",
            "align_content": null,
            "align_items": null,
            "align_self": null,
            "border": null,
            "bottom": null,
            "display": null,
            "flex": null,
            "flex_flow": null,
            "grid_area": null,
            "grid_auto_columns": null,
            "grid_auto_flow": null,
            "grid_auto_rows": null,
            "grid_column": null,
            "grid_gap": null,
            "grid_row": null,
            "grid_template_areas": null,
            "grid_template_columns": null,
            "grid_template_rows": null,
            "height": null,
            "justify_content": null,
            "justify_items": null,
            "left": null,
            "margin": null,
            "max_height": null,
            "max_width": null,
            "min_height": null,
            "min_width": null,
            "object_fit": null,
            "object_position": null,
            "order": null,
            "overflow": null,
            "overflow_x": null,
            "overflow_y": null,
            "padding": null,
            "right": null,
            "top": null,
            "visibility": null,
            "width": null
          }
        },
        "89c7df65aa034ca8a41dd843c25d5f2f": {
          "model_module": "@jupyter-widgets/controls",
          "model_name": "DescriptionStyleModel",
          "model_module_version": "1.5.0",
          "state": {
            "_model_module": "@jupyter-widgets/controls",
            "_model_module_version": "1.5.0",
            "_model_name": "DescriptionStyleModel",
            "_view_count": null,
            "_view_module": "@jupyter-widgets/base",
            "_view_module_version": "1.2.0",
            "_view_name": "StyleView",
            "description_width": ""
          }
        },
        "4c6f932b1917411da28ff79a0fca7332": {
          "model_module": "@jupyter-widgets/controls",
          "model_name": "HBoxModel",
          "model_module_version": "1.5.0",
          "state": {
            "_dom_classes": [],
            "_model_module": "@jupyter-widgets/controls",
            "_model_module_version": "1.5.0",
            "_model_name": "HBoxModel",
            "_view_count": null,
            "_view_module": "@jupyter-widgets/controls",
            "_view_module_version": "1.5.0",
            "_view_name": "HBoxView",
            "box_style": "",
            "children": [
              "IPY_MODEL_d58a7cac06014c88b980b43df509fe32",
              "IPY_MODEL_a29d0cbe4ff844899308d67344eda712",
              "IPY_MODEL_625a606dc9774e85929853d397e3239e"
            ],
            "layout": "IPY_MODEL_32d15b24b74f410e9213fee55eed2a1c"
          }
        },
        "d58a7cac06014c88b980b43df509fe32": {
          "model_module": "@jupyter-widgets/controls",
          "model_name": "HTMLModel",
          "model_module_version": "1.5.0",
          "state": {
            "_dom_classes": [],
            "_model_module": "@jupyter-widgets/controls",
            "_model_module_version": "1.5.0",
            "_model_name": "HTMLModel",
            "_view_count": null,
            "_view_module": "@jupyter-widgets/controls",
            "_view_module_version": "1.5.0",
            "_view_name": "HTMLView",
            "description": "",
            "description_tooltip": null,
            "layout": "IPY_MODEL_2aec04757dc54707861c2a28bbcc7c6f",
            "placeholder": "​",
            "style": "IPY_MODEL_f203cd8e35cb40f59bf1b272dd78780d",
            "value": "100%"
          }
        },
        "a29d0cbe4ff844899308d67344eda712": {
          "model_module": "@jupyter-widgets/controls",
          "model_name": "FloatProgressModel",
          "model_module_version": "1.5.0",
          "state": {
            "_dom_classes": [],
            "_model_module": "@jupyter-widgets/controls",
            "_model_module_version": "1.5.0",
            "_model_name": "FloatProgressModel",
            "_view_count": null,
            "_view_module": "@jupyter-widgets/controls",
            "_view_module_version": "1.5.0",
            "_view_name": "ProgressView",
            "bar_style": "success",
            "description": "",
            "description_tooltip": null,
            "layout": "IPY_MODEL_de13626a24e648d881c3f32078b0ca6d",
            "max": 7,
            "min": 0,
            "orientation": "horizontal",
            "style": "IPY_MODEL_0a403633410241dbb3de4ff1a204d3ee",
            "value": 7
          }
        },
        "625a606dc9774e85929853d397e3239e": {
          "model_module": "@jupyter-widgets/controls",
          "model_name": "HTMLModel",
          "model_module_version": "1.5.0",
          "state": {
            "_dom_classes": [],
            "_model_module": "@jupyter-widgets/controls",
            "_model_module_version": "1.5.0",
            "_model_name": "HTMLModel",
            "_view_count": null,
            "_view_module": "@jupyter-widgets/controls",
            "_view_module_version": "1.5.0",
            "_view_name": "HTMLView",
            "description": "",
            "description_tooltip": null,
            "layout": "IPY_MODEL_f9dbb5da226c4240b0bcf3745d55ff09",
            "placeholder": "​",
            "style": "IPY_MODEL_7bc6e853ffd84e57aa323be92af81f9d",
            "value": " 7/7 [03:03&lt;00:00, 21.21s/it]"
          }
        },
        "32d15b24b74f410e9213fee55eed2a1c": {
          "model_module": "@jupyter-widgets/base",
          "model_name": "LayoutModel",
          "model_module_version": "1.2.0",
          "state": {
            "_model_module": "@jupyter-widgets/base",
            "_model_module_version": "1.2.0",
            "_model_name": "LayoutModel",
            "_view_count": null,
            "_view_module": "@jupyter-widgets/base",
            "_view_module_version": "1.2.0",
            "_view_name": "LayoutView",
            "align_content": null,
            "align_items": null,
            "align_self": null,
            "border": null,
            "bottom": null,
            "display": null,
            "flex": null,
            "flex_flow": null,
            "grid_area": null,
            "grid_auto_columns": null,
            "grid_auto_flow": null,
            "grid_auto_rows": null,
            "grid_column": null,
            "grid_gap": null,
            "grid_row": null,
            "grid_template_areas": null,
            "grid_template_columns": null,
            "grid_template_rows": null,
            "height": null,
            "justify_content": null,
            "justify_items": null,
            "left": null,
            "margin": null,
            "max_height": null,
            "max_width": null,
            "min_height": null,
            "min_width": null,
            "object_fit": null,
            "object_position": null,
            "order": null,
            "overflow": null,
            "overflow_x": null,
            "overflow_y": null,
            "padding": null,
            "right": null,
            "top": null,
            "visibility": null,
            "width": null
          }
        },
        "2aec04757dc54707861c2a28bbcc7c6f": {
          "model_module": "@jupyter-widgets/base",
          "model_name": "LayoutModel",
          "model_module_version": "1.2.0",
          "state": {
            "_model_module": "@jupyter-widgets/base",
            "_model_module_version": "1.2.0",
            "_model_name": "LayoutModel",
            "_view_count": null,
            "_view_module": "@jupyter-widgets/base",
            "_view_module_version": "1.2.0",
            "_view_name": "LayoutView",
            "align_content": null,
            "align_items": null,
            "align_self": null,
            "border": null,
            "bottom": null,
            "display": null,
            "flex": null,
            "flex_flow": null,
            "grid_area": null,
            "grid_auto_columns": null,
            "grid_auto_flow": null,
            "grid_auto_rows": null,
            "grid_column": null,
            "grid_gap": null,
            "grid_row": null,
            "grid_template_areas": null,
            "grid_template_columns": null,
            "grid_template_rows": null,
            "height": null,
            "justify_content": null,
            "justify_items": null,
            "left": null,
            "margin": null,
            "max_height": null,
            "max_width": null,
            "min_height": null,
            "min_width": null,
            "object_fit": null,
            "object_position": null,
            "order": null,
            "overflow": null,
            "overflow_x": null,
            "overflow_y": null,
            "padding": null,
            "right": null,
            "top": null,
            "visibility": null,
            "width": null
          }
        },
        "f203cd8e35cb40f59bf1b272dd78780d": {
          "model_module": "@jupyter-widgets/controls",
          "model_name": "DescriptionStyleModel",
          "model_module_version": "1.5.0",
          "state": {
            "_model_module": "@jupyter-widgets/controls",
            "_model_module_version": "1.5.0",
            "_model_name": "DescriptionStyleModel",
            "_view_count": null,
            "_view_module": "@jupyter-widgets/base",
            "_view_module_version": "1.2.0",
            "_view_name": "StyleView",
            "description_width": ""
          }
        },
        "de13626a24e648d881c3f32078b0ca6d": {
          "model_module": "@jupyter-widgets/base",
          "model_name": "LayoutModel",
          "model_module_version": "1.2.0",
          "state": {
            "_model_module": "@jupyter-widgets/base",
            "_model_module_version": "1.2.0",
            "_model_name": "LayoutModel",
            "_view_count": null,
            "_view_module": "@jupyter-widgets/base",
            "_view_module_version": "1.2.0",
            "_view_name": "LayoutView",
            "align_content": null,
            "align_items": null,
            "align_self": null,
            "border": null,
            "bottom": null,
            "display": null,
            "flex": null,
            "flex_flow": null,
            "grid_area": null,
            "grid_auto_columns": null,
            "grid_auto_flow": null,
            "grid_auto_rows": null,
            "grid_column": null,
            "grid_gap": null,
            "grid_row": null,
            "grid_template_areas": null,
            "grid_template_columns": null,
            "grid_template_rows": null,
            "height": null,
            "justify_content": null,
            "justify_items": null,
            "left": null,
            "margin": null,
            "max_height": null,
            "max_width": null,
            "min_height": null,
            "min_width": null,
            "object_fit": null,
            "object_position": null,
            "order": null,
            "overflow": null,
            "overflow_x": null,
            "overflow_y": null,
            "padding": null,
            "right": null,
            "top": null,
            "visibility": null,
            "width": null
          }
        },
        "0a403633410241dbb3de4ff1a204d3ee": {
          "model_module": "@jupyter-widgets/controls",
          "model_name": "ProgressStyleModel",
          "model_module_version": "1.5.0",
          "state": {
            "_model_module": "@jupyter-widgets/controls",
            "_model_module_version": "1.5.0",
            "_model_name": "ProgressStyleModel",
            "_view_count": null,
            "_view_module": "@jupyter-widgets/base",
            "_view_module_version": "1.2.0",
            "_view_name": "StyleView",
            "bar_color": null,
            "description_width": ""
          }
        },
        "f9dbb5da226c4240b0bcf3745d55ff09": {
          "model_module": "@jupyter-widgets/base",
          "model_name": "LayoutModel",
          "model_module_version": "1.2.0",
          "state": {
            "_model_module": "@jupyter-widgets/base",
            "_model_module_version": "1.2.0",
            "_model_name": "LayoutModel",
            "_view_count": null,
            "_view_module": "@jupyter-widgets/base",
            "_view_module_version": "1.2.0",
            "_view_name": "LayoutView",
            "align_content": null,
            "align_items": null,
            "align_self": null,
            "border": null,
            "bottom": null,
            "display": null,
            "flex": null,
            "flex_flow": null,
            "grid_area": null,
            "grid_auto_columns": null,
            "grid_auto_flow": null,
            "grid_auto_rows": null,
            "grid_column": null,
            "grid_gap": null,
            "grid_row": null,
            "grid_template_areas": null,
            "grid_template_columns": null,
            "grid_template_rows": null,
            "height": null,
            "justify_content": null,
            "justify_items": null,
            "left": null,
            "margin": null,
            "max_height": null,
            "max_width": null,
            "min_height": null,
            "min_width": null,
            "object_fit": null,
            "object_position": null,
            "order": null,
            "overflow": null,
            "overflow_x": null,
            "overflow_y": null,
            "padding": null,
            "right": null,
            "top": null,
            "visibility": null,
            "width": null
          }
        },
        "7bc6e853ffd84e57aa323be92af81f9d": {
          "model_module": "@jupyter-widgets/controls",
          "model_name": "DescriptionStyleModel",
          "model_module_version": "1.5.0",
          "state": {
            "_model_module": "@jupyter-widgets/controls",
            "_model_module_version": "1.5.0",
            "_model_name": "DescriptionStyleModel",
            "_view_count": null,
            "_view_module": "@jupyter-widgets/base",
            "_view_module_version": "1.2.0",
            "_view_name": "StyleView",
            "description_width": ""
          }
        }
      }
    },
    "accelerator": "GPU"
  },
  "nbformat": 4,
  "nbformat_minor": 0
}