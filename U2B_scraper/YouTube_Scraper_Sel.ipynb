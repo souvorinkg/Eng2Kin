{
 "cells": [
  {
   "cell_type": "code",
   "execution_count": 37,
   "metadata": {},
   "outputs": [],
   "source": [
    "from selenium import webdriver\n",
    "from selenium.webdriver.common.by import By\n",
    "import pandas as pd"
   ]
  },
  {
   "cell_type": "code",
   "execution_count": 46,
   "metadata": {},
   "outputs": [],
   "source": [
    "url = \"https://www.youtube.com/aashiqui2/videos\"\n",
    "driver = webdriver.Chrome()\n",
    "driver.get(url)"
   ]
  },
  {
   "cell_type": "code",
   "execution_count": 47,
   "metadata": {},
   "outputs": [],
   "source": [
    "videos = driver.find_elements(by=By.CLASS_NAME, value='style-scope ytd-grid-video-renderer')\n"
   ]
  },
  {
   "cell_type": "code",
   "execution_count": 48,
   "metadata": {},
   "outputs": [],
   "source": [
    "contents = []\n",
    "for video in videos:\n",
    "    title = video.find_element(by=By.XPATH, value='.//*[@id=\"video-title\"]').text\n",
    "    link = video.find_element(by=By.XPATH, value='.//*[@id=\"video-title\"]').get_attribute('href')\n",
    "    views = video.find_element(by=By.XPATH, value='.//*[@id=\"metadata-line\"]/span[1]').text\n",
    "    when = video.find_element(by=By.XPATH, value='.//*[@id=\"metadata-line\"]/span[2]').text\n",
    "    contents.append({\n",
    "        \"title\" : title,\n",
    "        \"views\" : views,\n",
    "        \"when\" : when,\n",
    "        \"link\" : link\n",
    "    })\n"
   ]
  },
  {
   "cell_type": "code",
   "execution_count": 49,
   "metadata": {},
   "outputs": [
    {
     "name": "stdout",
     "output_type": "stream",
     "text": [
      "Empty DataFrame\n",
      "Columns: []\n",
      "Index: []\n"
     ]
    }
   ],
   "source": [
    "df = pd.DataFrame(contents)\n",
    "print(df.head())\n",
    "driver.close()"
   ]
  }
 ],
 "metadata": {
  "kernelspec": {
   "display_name": "Python 3",
   "language": "python",
   "name": "python3"
  },
  "language_info": {
   "codemirror_mode": {
    "name": "ipython",
    "version": 3
   },
   "file_extension": ".py",
   "mimetype": "text/x-python",
   "name": "python",
   "nbconvert_exporter": "python",
   "pygments_lexer": "ipython3",
   "version": "3.11.5"
  }
 },
 "nbformat": 4,
 "nbformat_minor": 2
}
