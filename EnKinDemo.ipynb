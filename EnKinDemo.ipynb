{
 "cells": [
  {
   "cell_type": "code",
   "execution_count": 1,
   "id": "171263bc-d347-4122-b756-beb01b00a1e5",
   "metadata": {},
   "outputs": [
    {
     "name": "stderr",
     "output_type": "stream",
     "text": [
      "/usr/local/lib/python3.11/site-packages/tqdm/auto.py:21: TqdmWarning: IProgress not found. Please update jupyter and ipywidgets. See https://ipywidgets.readthedocs.io/en/stable/user_install.html\n",
      "  from .autonotebook import tqdm as notebook_tqdm\n"
     ]
    },
    {
     "name": "stdout",
     "output_type": "stream",
     "text": [
      "Loaded as API: https://mbazanlp-finetuned-nllb-general-en-kin.hf.space/ ✔\n",
      "Nishimwe!\n"
     ]
    }
   ],
   "source": [
    "from gradio_client import Client\n",
    "\n",
    "client = Client(\"https://mbazanlp-finetuned-nllb-general-en-kin.hf.space/\")\n",
    "result = client.predict(\n",
    "\t\t\t\t\"Howdy!\",\t# str in 'Text' Textbox component\n",
    "\t\t\t\t\n",
    "\t\t\t\t\"eng_Latn\",\t# str (Option from: ['kin_Latn', 'eng_Latn'])\n",
    "\t\t\t\t\"kin_Latn\",\n",
    "\t\t\t\tapi_name=\"/predict\"\n",
    ")\n",
    "print(result)"
   ]
  },
  {
   "cell_type": "code",
   "execution_count": 2,
   "id": "0043036a",
   "metadata": {},
   "outputs": [],
   "source": [
    "import csv\n",
    "import os\n",
    "\n",
    "def csvToSent(filename): \n",
    "    Sentences = {} \n",
    "    with open(filename, 'r') as csv_file:\n",
    "        csv_reader = csv.reader(csv_file)\n",
    "        rowNum = 0\n",
    "        for row in csv_reader:\n",
    "            Sentences[rowNum] = row\n",
    "            rowNum += 1\n",
    "    return Sentences\n",
    "\n",
    "Sentences = csvToSent('GaelleTest.csv')\n",
    "\n"
   ]
  },
  {
   "cell_type": "code",
   "execution_count": 3,
   "id": "bad8df9f-f1c1-455b-ad5d-c16096fe5563",
   "metadata": {},
   "outputs": [],
   "source": [
    "# EngToKin (EnglishText) -> KinText\n",
    "def EngToKin(EnglishText, client):\n",
    "    result = client.predict(\n",
    "                    EnglishText,\t\n",
    "                    \"eng_Latn\",\t\n",
    "                    \"kin_Latn\",\n",
    "                    api_name=\"/predict\"\n",
    "    )\n",
    "    return result\n"
   ]
  },
  {
   "cell_type": "code",
   "execution_count": 4,
   "id": "bf220ccf-e176-4f85-81e6-691e092a4ed5",
   "metadata": {},
   "outputs": [
    {
     "name": "stdout",
     "output_type": "stream",
     "text": [
      "Loaded as API: https://mbazanlp-finetuned-nllb-general-en-kin.hf.space/ ✔\n"
     ]
    }
   ],
   "source": [
    "client = Client(\"https://mbazanlp-finetuned-nllb-general-en-kin.hf.space/\")\n"
   ]
  },
  {
   "cell_type": "code",
   "execution_count": 5,
   "id": "bbed25d2-37f6-4167-8e77-322ff0053839",
   "metadata": {},
   "outputs": [
    {
     "data": {
      "text/plain": [
       "'Hejuru ku ngazi'"
      ]
     },
     "execution_count": 5,
     "metadata": {},
     "output_type": "execute_result"
    }
   ],
   "source": [
    "EngToKin(\"Up the stairs\", client)\n"
   ]
  },
  {
   "cell_type": "code",
   "execution_count": 6,
   "id": "f77aae45",
   "metadata": {},
   "outputs": [],
   "source": [
    "def DictTranslate(Sentences, client):\n",
    "    for i in Sentences:\n",
    "        if i = 0:\n",
    "            break\n",
    "        result = EngToKin(Sentences[i][0], client)\n",
    "        Sentences[i][2] = result\n",
    "        # if result not in Sentences[i]:\n",
    "        #     Sentences[i][0].append(result)\n",
    "        print(Sentences[i][0])\n",
    "        print(Sentences[i][2])\n",
    "    return Sentences"
   ]
  },
  {
   "cell_type": "code",
   "execution_count": 7,
   "id": "05d8085b",
   "metadata": {},
   "outputs": [],
   "source": [
    "#DictTranslate(Sentences, client)"
   ]
  },
  {
   "cell_type": "code",
   "execution_count": 8,
   "id": "09963780",
   "metadata": {},
   "outputs": [
    {
     "name": "stdout",
     "output_type": "stream",
     "text": [
      "NLTK Downloader\n",
      "---------------------------------------------------------------------------\n",
      "    d) Download   l) List    u) Update   c) Config   h) Help   q) Quit\n",
      "---------------------------------------------------------------------------\n"
     ]
    },
    {
     "name": "stdin",
     "output_type": "stream",
     "text": [
      "Downloader>  q\n"
     ]
    }
   ],
   "source": [
    "import nltk\n",
    "from nltk.translate import bleu\n",
    "#calculateBLEU(hypothesis, reference) -> BLEUscore (float between 0 and 1)\n",
    "def calculateBLEU(hypothesis, reference):\n",
    "    BLEUscore = nltk.translate.bleu_score.sentence_bleu([reference], hypothesis)\n",
    "    return BLEUscore"
   ]
  },
  {
   "cell_type": "code",
   "execution_count": 9,
   "id": "c2bb536c",
   "metadata": {},
   "outputs": [],
   "source": [
    "def DictBLEU(Sentences, testCol, outputCol):\n",
    "    for i in Sentences:\n",
    "        BLEUscore = calculateBLEU(Sentences[i][1], Sentences[i][testCol])\n",
    "        Sentences[i][outputCol] = BLEUscore\n",
    "        print(Sentences[i])\n",
    "    return Sentences"
   ]
  },
  {
   "cell_type": "code",
   "execution_count": 10,
   "id": "50f8c6a8",
   "metadata": {},
   "outputs": [
    {
     "name": "stdout",
     "output_type": "stream",
     "text": [
      "['Test_English', 'Test_Kinyarwanda', 'Prop_NLLB', 'Prop_ChatGPT', 'Prop_GT', 1.0832677820940877e-231, 'GPT_BLEU', 'GT_BLEU']\n",
      "['I’m a girl', 'Ndi umukobwa', 'Ndi umukobwa', 'Ndi umugore', 'Ndi umukobwa', 1.0, '', '']\n",
      "['The book is on the table', 'Igitabo kiri kumeza', 'Icyo gitabo kiri ku meza', 'Igitabo cyavuye kuri tawure', 'Igitabo kiri kumeza', 0.6616204833859496, '', '']\n",
      "['I wake up early every day', 'Buri munsi mbyuka kare cyane', 'mbyuka kare buri munsi', 'Ndagukunda ngwino koko munsi yose', 'Mbyuka kare buri munsi', 0.6745582854420089, '', '']\n",
      "['The children are playing football outside', 'Abana bari gukina umupira w’amaguru hanze', 'Abana barimo gukina umupira hanze', 'Abana barasaba imikino ya futuboli ku baho', 'Abana bakina umupira hanze', 0.6912565780777502, '', '']\n",
      "['Before I go to class I take breakfast', 'Mbere yuko njya mu ishuri, mbaza gufata ifunguro rya mugitondo', 'Mbere yo kujya mu ishuri mfata ifunguro rya mu gitondo', 'Mbere nshyira mu klasa, ndasaba gutanga isosi', 'Mbere yuko njya mu ishuri, mfata ifunguro rya mu gitondo', 0.7093978437636512, '', '']\n",
      "['The man who knew many languages was given the job of being an interpreter', 'Umugabo waruzi indimi nyinshi yahawe akazi ko kuba umusemuzi', 'Umugabo wari uzi indimi nyinshi yahawe akazi ko gusemura', 'Umuntu wese wari uzi icyongereza yarwaye igihugu cya gusoma', 'Uyu mugabo wari uzi indimi nyinshi yahawe akazi ko kuba umusemuzi', 0.8085118381597768, '', '']\n",
      "['After many years of research and experimentation a team of a student and a teacher was able to identify a technology method that is used for analyzing and understanding human language', 'Nyuma y’imyaka myinshi y’ubushakashatsi n’igeragezwa, itsinda ry’umunyeshuri n’umwarimu ryabashije gukora uburyo bw’ikoranabuhanga bukoreshwa mu gusesengura no kumva ururimi rw’abantu', 'Nyuma yimyaka myinshi yubushakashatsi no kugerageza itsinda ryumunyeshuri numwarimu bashoboye kumenya uburyo bwikoranabuhanga bukoreshwa mu gusesengura no kumva imvugo yabantu.', 'Nyuma y’amasaha atandatu yo gusoma n’ubuvugizi, icyorezo cy’umugeni n’umunyeshuri yarabashinjwemo kwiyumvamo ibitangaza bitandukanye by’ikirengacumu kwifatanya na ngombwa y’ubutumwa bwa buri muntu', 'Nyuma yimyaka myinshi yubushakashatsi nubushakashatsi itsinda ryabanyeshuri numwarimu bashoboye kumenya uburyo bwikoranabuhanga rikoreshwa mugusesengura no gusobanukirwa ururimi rwabantu', 0.7548636751817274, '', '']\n",
      "['It is raining', 'Imvura iragwa', 'Imvura irimo kugwa', 'Ibihe bya minsi', 'Imvura iri kugwa', 0.5181314577632983, '', '']\n",
      "['The birds are singing', 'Inyoni ziri kuririmba', 'Inyoni ziririmba', 'Ibiseke bibaza', 'Inyoni ziririmba', 0.7278825061958952, '', '']\n",
      "['The merchant opened a new store in the city', 'Umucuruzi yafunguye iduka rishya mu mujyi', 'Umucuruzi yafunguye iduka rishya mumujyi', 'Umushyikirano watsinzwe ibyiciro by’ibiro mu mujyi', 'Umucuruzi yafunguye iduka rishya mu mujyi', 0.9353695731020621, '', '']\n",
      "['A student who recently won an award in an art competition chose to use her prize to donate to charity', 'Umunyeshuri wari uherutse gutsindira igihembo mu marushanwa y’ubugeni, yahisemo gukoresha igihembo cye mu gutanga imfashanyo mu bikorwa by’ubugiraneza', 'Umunyeshuri uherutse gutwara igihembo mumarushanwa yubuhanzi yahisemo gukoresha igihembo cye gutanga impano', 'Umunyeshuri wavutse wamenyekanye n’ibihembo mu gikorwa cy’ubuhanga yabyikorera agatsiko kugeza yari atunze mu muryango mwiza', 'Umunyeshuri uherutse gutsindira igihembo mumarushanwa yubuhanzi yahisemo gukoresha igihembo cye kugirango atange imfashanyo', 0.617435848953072, '', '']\n",
      "['The cat is chasing an insect in the garden', 'Injangwe iri kwirukankana agasimba kari mu busitani', 'Injangwe irimo kwirukana udukoko mu busitani', 'Inzoka irasa ishako mu kirima', 'Injangwe yirukanye udukoko mu busitani', 0.6301193932273894, '', '']\n",
      "['It is nice outside today', 'Hanze harasa neza uyu munsi', 'Ni byiza hanze uyumunsi', 'Mu kirima hari ibyo nziza', 'Nibyiza hanze uyumunsi', 0.42311785416105785, '', '']\n",
      "['I like dogs more than cats', 'Nkunda imbwa kurusha injangwe', 'Nkunda imbwa kuruta injangwe', 'Ndagukunda imbwa kandi cyane', 'Nkunda imbwa kuruta injangwe', 0.8696398662122882, '', '']\n",
      "['This class is hard', 'Iri somo rirakomeye', 'Iri somo riragoye', 'Iyi klasa ni nziza', 'Iri somo riragoye', 0.7042311846346826, '', '']\n",
      "['The national team player known for his soccer skills announced that he is going to retire and become a journalist', 'Umukinnyi w’ikipe y’igihugu, wari uzwiho ubuhanga mu gukina umupira w’amaguru, yatangaje ko agiye kureka gukina umupira w’amaguru aka umunyamakuru', 'Umukinnyi wAmavubi uzwiho ubuhanga bwe mu mupira wamaguru yatangaje ko agiye guhagarika umupira akazaba umunyamakuru', \"Umwaka ukomeye wazwi n'uburyo yifuza guhaga afite ikipe y'umurwa yakomoza ko ari ukoza umurongo n'aho atangira kuba umuhanzi w'imyidagaduro\", \"Umukinnyi w'ikipe y'igihugu uzwiho ubuhanga bw'umupira w'amaguru yatangaje ko agiye kujya mu kiruhuko cy'izabukuru akaba umunyamakuru\", 0.6178512840579566, '', '']\n",
      "['There is too much noise in the library', 'Mw’isomero harimo urusaku rwinshi', 'Mu isomero hari urusaku rwinshi', \"Bibazo n'ibibarimbere muri shuli\", 'Hano hari urusaku rwinshi mu isomero', 0.7979296449238732, '', '']\n",
      "['My brother is afraid of insects', 'Musaza wanjye atinya udukoko duto', 'Murumuna wanjye atinya udukoko', 'Umukobwa wanjye atowe imirire', 'Murumuna wanjye atinya udukoko', 0.7111331137087255, '', '']\n",
      "['Kinyarwanda is a difficult language to translate in English because there are some words it does not have', 'Ikinyarwanda ni ururimi rugoye kurushyira mu cyongereze kuko hari amagambo kidafite', 'Ikinyarwanda ni ururimi rugoye gusemurwa mu cyongereza kuko hari amagambo adafite', 'Kinyarwanda ni ururimi rurerimbuje kubvumvurirwa mu kirundi kuko haba hasigaye amagambo yabanza kutubwa', 'Kinyarwanda ni ururimi rutoroshye guhindura mucyongereza kuko hari amagambo amwe adafite', 0.8153556281915328, '', '']\n",
      "['My cat probably thinks he is the leader of this house', 'Injangwe yanjye ishobora kuba itekereza ko ariyo muyobozi w’iyi nzu', \"Injangwe yanjye birashoboka ko yibwira ko ari umuyobozi w'iyi nzu\", 'Inzoka yanjye yari irashaka kuburambira ariko yari icyumweru mw’imvura', 'Injangwe yanjye ishobora kuba yibwira ko ari umuyobozi wiyi nzu', 0.6526659617929551, '', '']\n",
      "['Test_English', 'Test_Kinyarwanda', 'Prop_NLLB', 'Prop_ChatGPT', 'Prop_GT', 1.0832677820940877e-231, 1.362137122503591e-231, 'GT_BLEU']\n",
      "['I’m a girl', 'Ndi umukobwa', 'Ndi umukobwa', 'Ndi umugore', 'Ndi umukobwa', 1.0, 0.5331675363405771, '']\n",
      "['The book is on the table', 'Igitabo kiri kumeza', 'Icyo gitabo kiri ku meza', 'Igitabo cyavuye kuri tawure', 'Igitabo kiri kumeza', 0.6616204833859496, 0.33874773254152984, '']\n",
      "['I wake up early every day', 'Buri munsi mbyuka kare cyane', 'mbyuka kare buri munsi', 'Ndagukunda ngwino koko munsi yose', 'Mbyuka kare buri munsi', 0.6745582854420089, 0.24159901115663643, '']\n",
      "['The children are playing football outside', 'Abana bari gukina umupira w’amaguru hanze', 'Abana barimo gukina umupira hanze', 'Abana barasaba imikino ya futuboli ku baho', 'Abana bakina umupira hanze', 0.6912565780777502, 0.2945147639100429, '']\n",
      "['Before I go to class I take breakfast', 'Mbere yuko njya mu ishuri, mbaza gufata ifunguro rya mugitondo', 'Mbere yo kujya mu ishuri mfata ifunguro rya mu gitondo', 'Mbere nshyira mu klasa, ndasaba gutanga isosi', 'Mbere yuko njya mu ishuri, mfata ifunguro rya mu gitondo', 0.7093978437636512, 0.2533706797780169, '']\n",
      "['The man who knew many languages was given the job of being an interpreter', 'Umugabo waruzi indimi nyinshi yahawe akazi ko kuba umusemuzi', 'Umugabo wari uzi indimi nyinshi yahawe akazi ko gusemura', 'Umuntu wese wari uzi icyongereza yarwaye igihugu cya gusoma', 'Uyu mugabo wari uzi indimi nyinshi yahawe akazi ko kuba umusemuzi', 0.8085118381597768, 0.1979109504882319, '']\n",
      "['After many years of research and experimentation a team of a student and a teacher was able to identify a technology method that is used for analyzing and understanding human language', 'Nyuma y’imyaka myinshi y’ubushakashatsi n’igeragezwa, itsinda ry’umunyeshuri n’umwarimu ryabashije gukora uburyo bw’ikoranabuhanga bukoreshwa mu gusesengura no kumva ururimi rw’abantu', 'Nyuma yimyaka myinshi yubushakashatsi no kugerageza itsinda ryumunyeshuri numwarimu bashoboye kumenya uburyo bwikoranabuhanga bukoreshwa mu gusesengura no kumva imvugo yabantu.', 'Nyuma y’amasaha atandatu yo gusoma n’ubuvugizi, icyorezo cy’umugeni n’umunyeshuri yarabashinjwemo kwiyumvamo ibitangaza bitandukanye by’ikirengacumu kwifatanya na ngombwa y’ubutumwa bwa buri muntu', 'Nyuma yimyaka myinshi yubushakashatsi nubushakashatsi itsinda ryabanyeshuri numwarimu bashoboye kumenya uburyo bwikoranabuhanga rikoreshwa mugusesengura no gusobanukirwa ururimi rwabantu', 0.7548636751817274, 0.38045766829090666, '']\n",
      "['It is raining', 'Imvura iragwa', 'Imvura irimo kugwa', 'Ibihe bya minsi', 'Imvura iri kugwa', 0.5181314577632983, 5.411517055137399e-155, '']\n",
      "['The birds are singing', 'Inyoni ziri kuririmba', 'Inyoni ziririmba', 'Ibiseke bibaza', 'Inyoni ziririmba', 0.7278825061958952, 5.541564466373977e-155, '']\n",
      "['The merchant opened a new store in the city', 'Umucuruzi yafunguye iduka rishya mu mujyi', 'Umucuruzi yafunguye iduka rishya mumujyi', 'Umushyikirano watsinzwe ibyiciro by’ibiro mu mujyi', 'Umucuruzi yafunguye iduka rishya mu mujyi', 0.9353695731020621, 0.26037625013361276, '']\n",
      "['A student who recently won an award in an art competition chose to use her prize to donate to charity', 'Umunyeshuri wari uherutse gutsindira igihembo mu marushanwa y’ubugeni, yahisemo gukoresha igihembo cye mu gutanga imfashanyo mu bikorwa by’ubugiraneza', 'Umunyeshuri uherutse gutwara igihembo mumarushanwa yubuhanzi yahisemo gukoresha igihembo cye gutanga impano', 'Umunyeshuri wavutse wamenyekanye n’ibihembo mu gikorwa cy’ubuhanga yabyikorera agatsiko kugeza yari atunze mu muryango mwiza', 'Umunyeshuri uherutse gutsindira igihembo mumarushanwa yubuhanzi yahisemo gukoresha igihembo cye kugirango atange imfashanyo', 0.617435848953072, 0.43543760555986144, '']\n",
      "['The cat is chasing an insect in the garden', 'Injangwe iri kwirukankana agasimba kari mu busitani', 'Injangwe irimo kwirukana udukoko mu busitani', 'Inzoka irasa ishako mu kirima', 'Injangwe yirukanye udukoko mu busitani', 0.6301193932273894, 0.12360545410216946, '']\n",
      "['It is nice outside today', 'Hanze harasa neza uyu munsi', 'Ni byiza hanze uyumunsi', 'Mu kirima hari ibyo nziza', 'Nibyiza hanze uyumunsi', 0.42311785416105785, 0.1570138275899757, '']\n",
      "['I like dogs more than cats', 'Nkunda imbwa kurusha injangwe', 'Nkunda imbwa kuruta injangwe', 'Ndagukunda imbwa kandi cyane', 'Nkunda imbwa kuruta injangwe', 0.8696398662122882, 0.4901090060699422, '']\n",
      "['This class is hard', 'Iri somo rirakomeye', 'Iri somo riragoye', 'Iyi klasa ni nziza', 'Iri somo riragoye', 0.7042311846346826, 6.00795009506529e-155, '']\n",
      "['The national team player known for his soccer skills announced that he is going to retire and become a journalist', 'Umukinnyi w’ikipe y’igihugu, wari uzwiho ubuhanga mu gukina umupira w’amaguru, yatangaje ko agiye kureka gukina umupira w’amaguru aka umunyamakuru', 'Umukinnyi wAmavubi uzwiho ubuhanga bwe mu mupira wamaguru yatangaje ko agiye guhagarika umupira akazaba umunyamakuru', \"Umwaka ukomeye wazwi n'uburyo yifuza guhaga afite ikipe y'umurwa yakomoza ko ari ukoza umurongo n'aho atangira kuba umuhanzi w'imyidagaduro\", \"Umukinnyi w'ikipe y'igihugu uzwiho ubuhanga bw'umupira w'amaguru yatangaje ko agiye kujya mu kiruhuko cy'izabukuru akaba umunyamakuru\", 0.6178512840579566, 0.3510240589222832, '']\n",
      "['There is too much noise in the library', 'Mw’isomero harimo urusaku rwinshi', 'Mu isomero hari urusaku rwinshi', \"Bibazo n'ibibarimbere muri shuli\", 'Hano hari urusaku rwinshi mu isomero', 0.7979296449238732, 0.1315376612843441, '']\n",
      "['My brother is afraid of insects', 'Musaza wanjye atinya udukoko duto', 'Murumuna wanjye atinya udukoko', 'Umukobwa wanjye atowe imirire', 'Murumuna wanjye atinya udukoko', 0.7111331137087255, 0.36629741050328096, '']\n",
      "['Kinyarwanda is a difficult language to translate in English because there are some words it does not have', 'Ikinyarwanda ni ururimi rugoye kurushyira mu cyongereze kuko hari amagambo kidafite', 'Ikinyarwanda ni ururimi rugoye gusemurwa mu cyongereza kuko hari amagambo adafite', 'Kinyarwanda ni ururimi rurerimbuje kubvumvurirwa mu kirundi kuko haba hasigaye amagambo yabanza kutubwa', 'Kinyarwanda ni ururimi rutoroshye guhindura mucyongereza kuko hari amagambo amwe adafite', 0.8153556281915328, 0.48747615004462813, '']\n",
      "['My cat probably thinks he is the leader of this house', 'Injangwe yanjye ishobora kuba itekereza ko ariyo muyobozi w’iyi nzu', \"Injangwe yanjye birashoboka ko yibwira ko ari umuyobozi w'iyi nzu\", 'Inzoka yanjye yari irashaka kuburambira ariko yari icyumweru mw’imvura', 'Injangwe yanjye ishobora kuba yibwira ko ari umuyobozi wiyi nzu', 0.6526659617929551, 0.31382849261510465, '']\n",
      "['Test_English', 'Test_Kinyarwanda', 'Prop_NLLB', 'Prop_ChatGPT', 'Prop_GT', 1.0832677820940877e-231, 1.362137122503591e-231, 1.1988328686372911e-231]\n",
      "['I’m a girl', 'Ndi umukobwa', 'Ndi umukobwa', 'Ndi umugore', 'Ndi umukobwa', 1.0, 0.5331675363405771, 1.0]\n",
      "['The book is on the table', 'Igitabo kiri kumeza', 'Icyo gitabo kiri ku meza', 'Igitabo cyavuye kuri tawure', 'Igitabo kiri kumeza', 0.6616204833859496, 0.33874773254152984, 1.0]\n",
      "['I wake up early every day', 'Buri munsi mbyuka kare cyane', 'mbyuka kare buri munsi', 'Ndagukunda ngwino koko munsi yose', 'Mbyuka kare buri munsi', 0.6745582854420089, 0.24159901115663643, 0.6364713244392607]\n",
      "['The children are playing football outside', 'Abana bari gukina umupira w’amaguru hanze', 'Abana barimo gukina umupira hanze', 'Abana barasaba imikino ya futuboli ku baho', 'Abana bakina umupira hanze', 0.6912565780777502, 0.2945147639100429, 0.5581437737877997]\n",
      "['Before I go to class I take breakfast', 'Mbere yuko njya mu ishuri, mbaza gufata ifunguro rya mugitondo', 'Mbere yo kujya mu ishuri mfata ifunguro rya mu gitondo', 'Mbere nshyira mu klasa, ndasaba gutanga isosi', 'Mbere yuko njya mu ishuri, mfata ifunguro rya mu gitondo', 0.7093978437636512, 0.2533706797780169, 0.84076235007508]\n",
      "['The man who knew many languages was given the job of being an interpreter', 'Umugabo waruzi indimi nyinshi yahawe akazi ko kuba umusemuzi', 'Umugabo wari uzi indimi nyinshi yahawe akazi ko gusemura', 'Umuntu wese wari uzi icyongereza yarwaye igihugu cya gusoma', 'Uyu mugabo wari uzi indimi nyinshi yahawe akazi ko kuba umusemuzi', 0.8085118381597768, 0.1979109504882319, 0.8838904297704169]\n",
      "['After many years of research and experimentation a team of a student and a teacher was able to identify a technology method that is used for analyzing and understanding human language', 'Nyuma y’imyaka myinshi y’ubushakashatsi n’igeragezwa, itsinda ry’umunyeshuri n’umwarimu ryabashije gukora uburyo bw’ikoranabuhanga bukoreshwa mu gusesengura no kumva ururimi rw’abantu', 'Nyuma yimyaka myinshi yubushakashatsi no kugerageza itsinda ryumunyeshuri numwarimu bashoboye kumenya uburyo bwikoranabuhanga bukoreshwa mu gusesengura no kumva imvugo yabantu.', 'Nyuma y’amasaha atandatu yo gusoma n’ubuvugizi, icyorezo cy’umugeni n’umunyeshuri yarabashinjwemo kwiyumvamo ibitangaza bitandukanye by’ikirengacumu kwifatanya na ngombwa y’ubutumwa bwa buri muntu', 'Nyuma yimyaka myinshi yubushakashatsi nubushakashatsi itsinda ryabanyeshuri numwarimu bashoboye kumenya uburyo bwikoranabuhanga rikoreshwa mugusesengura no gusobanukirwa ururimi rwabantu', 0.7548636751817274, 0.38045766829090666, 0.7239456495569496]\n",
      "['It is raining', 'Imvura iragwa', 'Imvura irimo kugwa', 'Ibihe bya minsi', 'Imvura iri kugwa', 0.5181314577632983, 5.411517055137399e-155, 0.6043026468442619]\n",
      "['The birds are singing', 'Inyoni ziri kuririmba', 'Inyoni ziririmba', 'Ibiseke bibaza', 'Inyoni ziririmba', 0.7278825061958952, 5.541564466373977e-155, 0.7278825061958952]\n",
      "['The merchant opened a new store in the city', 'Umucuruzi yafunguye iduka rishya mu mujyi', 'Umucuruzi yafunguye iduka rishya mumujyi', 'Umushyikirano watsinzwe ibyiciro by’ibiro mu mujyi', 'Umucuruzi yafunguye iduka rishya mu mujyi', 0.9353695731020621, 0.26037625013361276, 1.0]\n",
      "['A student who recently won an award in an art competition chose to use her prize to donate to charity', 'Umunyeshuri wari uherutse gutsindira igihembo mu marushanwa y’ubugeni, yahisemo gukoresha igihembo cye mu gutanga imfashanyo mu bikorwa by’ubugiraneza', 'Umunyeshuri uherutse gutwara igihembo mumarushanwa yubuhanzi yahisemo gukoresha igihembo cye gutanga impano', 'Umunyeshuri wavutse wamenyekanye n’ibihembo mu gikorwa cy’ubuhanga yabyikorera agatsiko kugeza yari atunze mu muryango mwiza', 'Umunyeshuri uherutse gutsindira igihembo mumarushanwa yubuhanzi yahisemo gukoresha igihembo cye kugirango atange imfashanyo', 0.617435848953072, 0.43543760555986144, 0.7011301114082874]\n",
      "['The cat is chasing an insect in the garden', 'Injangwe iri kwirukankana agasimba kari mu busitani', 'Injangwe irimo kwirukana udukoko mu busitani', 'Inzoka irasa ishako mu kirima', 'Injangwe yirukanye udukoko mu busitani', 0.6301193932273894, 0.12360545410216946, 0.4615425015629849]\n",
      "['It is nice outside today', 'Hanze harasa neza uyu munsi', 'Ni byiza hanze uyumunsi', 'Mu kirima hari ibyo nziza', 'Nibyiza hanze uyumunsi', 0.42311785416105785, 0.1570138275899757, 0.4171146615793599]\n",
      "['I like dogs more than cats', 'Nkunda imbwa kurusha injangwe', 'Nkunda imbwa kuruta injangwe', 'Ndagukunda imbwa kandi cyane', 'Nkunda imbwa kuruta injangwe', 0.8696398662122882, 0.4901090060699422, 0.8696398662122882]\n",
      "['This class is hard', 'Iri somo rirakomeye', 'Iri somo riragoye', 'Iyi klasa ni nziza', 'Iri somo riragoye', 0.7042311846346826, 6.00795009506529e-155, 0.7042311846346826]\n",
      "['The national team player known for his soccer skills announced that he is going to retire and become a journalist', 'Umukinnyi w’ikipe y’igihugu, wari uzwiho ubuhanga mu gukina umupira w’amaguru, yatangaje ko agiye kureka gukina umupira w’amaguru aka umunyamakuru', 'Umukinnyi wAmavubi uzwiho ubuhanga bwe mu mupira wamaguru yatangaje ko agiye guhagarika umupira akazaba umunyamakuru', \"Umwaka ukomeye wazwi n'uburyo yifuza guhaga afite ikipe y'umurwa yakomoza ko ari ukoza umurongo n'aho atangira kuba umuhanzi w'imyidagaduro\", \"Umukinnyi w'ikipe y'igihugu uzwiho ubuhanga bw'umupira w'amaguru yatangaje ko agiye kujya mu kiruhuko cy'izabukuru akaba umunyamakuru\", 0.6178512840579566, 0.3510240589222832, 0.6504274569592802]\n",
      "['There is too much noise in the library', 'Mw’isomero harimo urusaku rwinshi', 'Mu isomero hari urusaku rwinshi', \"Bibazo n'ibibarimbere muri shuli\", 'Hano hari urusaku rwinshi mu isomero', 0.7979296449238732, 0.1315376612843441, 0.7098965660204106]\n",
      "['My brother is afraid of insects', 'Musaza wanjye atinya udukoko duto', 'Murumuna wanjye atinya udukoko', 'Umukobwa wanjye atowe imirire', 'Murumuna wanjye atinya udukoko', 0.7111331137087255, 0.36629741050328096, 0.7111331137087255]\n",
      "['Kinyarwanda is a difficult language to translate in English because there are some words it does not have', 'Ikinyarwanda ni ururimi rugoye kurushyira mu cyongereze kuko hari amagambo kidafite', 'Ikinyarwanda ni ururimi rugoye gusemurwa mu cyongereza kuko hari amagambo adafite', 'Kinyarwanda ni ururimi rurerimbuje kubvumvurirwa mu kirundi kuko haba hasigaye amagambo yabanza kutubwa', 'Kinyarwanda ni ururimi rutoroshye guhindura mucyongereza kuko hari amagambo amwe adafite', 0.8153556281915328, 0.48747615004462813, 0.7033443310007398]\n",
      "['My cat probably thinks he is the leader of this house', 'Injangwe yanjye ishobora kuba itekereza ko ariyo muyobozi w’iyi nzu', \"Injangwe yanjye birashoboka ko yibwira ko ari umuyobozi w'iyi nzu\", 'Inzoka yanjye yari irashaka kuburambira ariko yari icyumweru mw’imvura', 'Injangwe yanjye ishobora kuba yibwira ko ari umuyobozi wiyi nzu', 0.6526659617929551, 0.31382849261510465, 0.758261678848799]\n"
     ]
    },
    {
     "name": "stderr",
     "output_type": "stream",
     "text": [
      "/usr/local/lib/python3.11/site-packages/nltk/translate/bleu_score.py:552: UserWarning: \n",
      "The hypothesis contains 0 counts of 2-gram overlaps.\n",
      "Therefore the BLEU score evaluates to 0, independently of\n",
      "how many N-gram overlaps of lower order it contains.\n",
      "Consider using lower n-gram order or use SmoothingFunction()\n",
      "  warnings.warn(_msg)\n",
      "/usr/local/lib/python3.11/site-packages/nltk/translate/bleu_score.py:552: UserWarning: \n",
      "The hypothesis contains 0 counts of 3-gram overlaps.\n",
      "Therefore the BLEU score evaluates to 0, independently of\n",
      "how many N-gram overlaps of lower order it contains.\n",
      "Consider using lower n-gram order or use SmoothingFunction()\n",
      "  warnings.warn(_msg)\n",
      "/usr/local/lib/python3.11/site-packages/nltk/translate/bleu_score.py:552: UserWarning: \n",
      "The hypothesis contains 0 counts of 4-gram overlaps.\n",
      "Therefore the BLEU score evaluates to 0, independently of\n",
      "how many N-gram overlaps of lower order it contains.\n",
      "Consider using lower n-gram order or use SmoothingFunction()\n",
      "  warnings.warn(_msg)\n"
     ]
    },
    {
     "data": {
      "text/plain": [
       "{0: ['Test_English',\n",
       "  'Test_Kinyarwanda',\n",
       "  'Prop_NLLB',\n",
       "  'Prop_ChatGPT',\n",
       "  'Prop_GT',\n",
       "  1.0832677820940877e-231,\n",
       "  1.362137122503591e-231,\n",
       "  1.1988328686372911e-231],\n",
       " 1: ['I’m a girl',\n",
       "  'Ndi umukobwa',\n",
       "  'Ndi umukobwa',\n",
       "  'Ndi umugore',\n",
       "  'Ndi umukobwa',\n",
       "  1.0,\n",
       "  0.5331675363405771,\n",
       "  1.0],\n",
       " 2: ['The book is on the table',\n",
       "  'Igitabo kiri kumeza',\n",
       "  'Icyo gitabo kiri ku meza',\n",
       "  'Igitabo cyavuye kuri tawure',\n",
       "  'Igitabo kiri kumeza',\n",
       "  0.6616204833859496,\n",
       "  0.33874773254152984,\n",
       "  1.0],\n",
       " 3: ['I wake up early every day',\n",
       "  'Buri munsi mbyuka kare cyane',\n",
       "  'mbyuka kare buri munsi',\n",
       "  'Ndagukunda ngwino koko munsi yose',\n",
       "  'Mbyuka kare buri munsi',\n",
       "  0.6745582854420089,\n",
       "  0.24159901115663643,\n",
       "  0.6364713244392607],\n",
       " 4: ['The children are playing football outside',\n",
       "  'Abana bari gukina umupira w’amaguru hanze',\n",
       "  'Abana barimo gukina umupira hanze',\n",
       "  'Abana barasaba imikino ya futuboli ku baho',\n",
       "  'Abana bakina umupira hanze',\n",
       "  0.6912565780777502,\n",
       "  0.2945147639100429,\n",
       "  0.5581437737877997],\n",
       " 5: ['Before I go to class I take breakfast',\n",
       "  'Mbere yuko njya mu ishuri, mbaza gufata ifunguro rya mugitondo',\n",
       "  'Mbere yo kujya mu ishuri mfata ifunguro rya mu gitondo',\n",
       "  'Mbere nshyira mu klasa, ndasaba gutanga isosi',\n",
       "  'Mbere yuko njya mu ishuri, mfata ifunguro rya mu gitondo',\n",
       "  0.7093978437636512,\n",
       "  0.2533706797780169,\n",
       "  0.84076235007508],\n",
       " 6: ['The man who knew many languages was given the job of being an interpreter',\n",
       "  'Umugabo waruzi indimi nyinshi yahawe akazi ko kuba umusemuzi',\n",
       "  'Umugabo wari uzi indimi nyinshi yahawe akazi ko gusemura',\n",
       "  'Umuntu wese wari uzi icyongereza yarwaye igihugu cya gusoma',\n",
       "  'Uyu mugabo wari uzi indimi nyinshi yahawe akazi ko kuba umusemuzi',\n",
       "  0.8085118381597768,\n",
       "  0.1979109504882319,\n",
       "  0.8838904297704169],\n",
       " 7: ['After many years of research and experimentation a team of a student and a teacher was able to identify a technology method that is used for analyzing and understanding human language',\n",
       "  'Nyuma y’imyaka myinshi y’ubushakashatsi n’igeragezwa, itsinda ry’umunyeshuri n’umwarimu ryabashije gukora uburyo bw’ikoranabuhanga bukoreshwa mu gusesengura no kumva ururimi rw’abantu',\n",
       "  'Nyuma yimyaka myinshi yubushakashatsi no kugerageza itsinda ryumunyeshuri numwarimu bashoboye kumenya uburyo bwikoranabuhanga bukoreshwa mu gusesengura no kumva imvugo yabantu.',\n",
       "  'Nyuma y’amasaha atandatu yo gusoma n’ubuvugizi, icyorezo cy’umugeni n’umunyeshuri yarabashinjwemo kwiyumvamo ibitangaza bitandukanye by’ikirengacumu kwifatanya na ngombwa y’ubutumwa bwa buri muntu',\n",
       "  'Nyuma yimyaka myinshi yubushakashatsi nubushakashatsi itsinda ryabanyeshuri numwarimu bashoboye kumenya uburyo bwikoranabuhanga rikoreshwa mugusesengura no gusobanukirwa ururimi rwabantu',\n",
       "  0.7548636751817274,\n",
       "  0.38045766829090666,\n",
       "  0.7239456495569496],\n",
       " 8: ['It is raining',\n",
       "  'Imvura iragwa',\n",
       "  'Imvura irimo kugwa',\n",
       "  'Ibihe bya minsi',\n",
       "  'Imvura iri kugwa',\n",
       "  0.5181314577632983,\n",
       "  5.411517055137399e-155,\n",
       "  0.6043026468442619],\n",
       " 9: ['The birds are singing',\n",
       "  'Inyoni ziri kuririmba',\n",
       "  'Inyoni ziririmba',\n",
       "  'Ibiseke bibaza',\n",
       "  'Inyoni ziririmba',\n",
       "  0.7278825061958952,\n",
       "  5.541564466373977e-155,\n",
       "  0.7278825061958952],\n",
       " 10: ['The merchant opened a new store in the city',\n",
       "  'Umucuruzi yafunguye iduka rishya mu mujyi',\n",
       "  'Umucuruzi yafunguye iduka rishya mumujyi',\n",
       "  'Umushyikirano watsinzwe ibyiciro by’ibiro mu mujyi',\n",
       "  'Umucuruzi yafunguye iduka rishya mu mujyi',\n",
       "  0.9353695731020621,\n",
       "  0.26037625013361276,\n",
       "  1.0],\n",
       " 11: ['A student who recently won an award in an art competition chose to use her prize to donate to charity',\n",
       "  'Umunyeshuri wari uherutse gutsindira igihembo mu marushanwa y’ubugeni, yahisemo gukoresha igihembo cye mu gutanga imfashanyo mu bikorwa by’ubugiraneza',\n",
       "  'Umunyeshuri uherutse gutwara igihembo mumarushanwa yubuhanzi yahisemo gukoresha igihembo cye gutanga impano',\n",
       "  'Umunyeshuri wavutse wamenyekanye n’ibihembo mu gikorwa cy’ubuhanga yabyikorera agatsiko kugeza yari atunze mu muryango mwiza',\n",
       "  'Umunyeshuri uherutse gutsindira igihembo mumarushanwa yubuhanzi yahisemo gukoresha igihembo cye kugirango atange imfashanyo',\n",
       "  0.617435848953072,\n",
       "  0.43543760555986144,\n",
       "  0.7011301114082874],\n",
       " 12: ['The cat is chasing an insect in the garden',\n",
       "  'Injangwe iri kwirukankana agasimba kari mu busitani',\n",
       "  'Injangwe irimo kwirukana udukoko mu busitani',\n",
       "  'Inzoka irasa ishako mu kirima',\n",
       "  'Injangwe yirukanye udukoko mu busitani',\n",
       "  0.6301193932273894,\n",
       "  0.12360545410216946,\n",
       "  0.4615425015629849],\n",
       " 13: ['It is nice outside today',\n",
       "  'Hanze harasa neza uyu munsi',\n",
       "  'Ni byiza hanze uyumunsi',\n",
       "  'Mu kirima hari ibyo nziza',\n",
       "  'Nibyiza hanze uyumunsi',\n",
       "  0.42311785416105785,\n",
       "  0.1570138275899757,\n",
       "  0.4171146615793599],\n",
       " 14: ['I like dogs more than cats',\n",
       "  'Nkunda imbwa kurusha injangwe',\n",
       "  'Nkunda imbwa kuruta injangwe',\n",
       "  'Ndagukunda imbwa kandi cyane',\n",
       "  'Nkunda imbwa kuruta injangwe',\n",
       "  0.8696398662122882,\n",
       "  0.4901090060699422,\n",
       "  0.8696398662122882],\n",
       " 15: ['This class is hard',\n",
       "  'Iri somo rirakomeye',\n",
       "  'Iri somo riragoye',\n",
       "  'Iyi klasa ni nziza',\n",
       "  'Iri somo riragoye',\n",
       "  0.7042311846346826,\n",
       "  6.00795009506529e-155,\n",
       "  0.7042311846346826],\n",
       " 16: ['The national team player known for his soccer skills announced that he is going to retire and become a journalist',\n",
       "  'Umukinnyi w’ikipe y’igihugu, wari uzwiho ubuhanga mu gukina umupira w’amaguru, yatangaje ko agiye kureka gukina umupira w’amaguru aka umunyamakuru',\n",
       "  'Umukinnyi wAmavubi uzwiho ubuhanga bwe mu mupira wamaguru yatangaje ko agiye guhagarika umupira akazaba umunyamakuru',\n",
       "  \"Umwaka ukomeye wazwi n'uburyo yifuza guhaga afite ikipe y'umurwa yakomoza ko ari ukoza umurongo n'aho atangira kuba umuhanzi w'imyidagaduro\",\n",
       "  \"Umukinnyi w'ikipe y'igihugu uzwiho ubuhanga bw'umupira w'amaguru yatangaje ko agiye kujya mu kiruhuko cy'izabukuru akaba umunyamakuru\",\n",
       "  0.6178512840579566,\n",
       "  0.3510240589222832,\n",
       "  0.6504274569592802],\n",
       " 17: ['There is too much noise in the library',\n",
       "  'Mw’isomero harimo urusaku rwinshi',\n",
       "  'Mu isomero hari urusaku rwinshi',\n",
       "  \"Bibazo n'ibibarimbere muri shuli\",\n",
       "  'Hano hari urusaku rwinshi mu isomero',\n",
       "  0.7979296449238732,\n",
       "  0.1315376612843441,\n",
       "  0.7098965660204106],\n",
       " 18: ['My brother is afraid of insects',\n",
       "  'Musaza wanjye atinya udukoko duto',\n",
       "  'Murumuna wanjye atinya udukoko',\n",
       "  'Umukobwa wanjye atowe imirire',\n",
       "  'Murumuna wanjye atinya udukoko',\n",
       "  0.7111331137087255,\n",
       "  0.36629741050328096,\n",
       "  0.7111331137087255],\n",
       " 19: ['Kinyarwanda is a difficult language to translate in English because there are some words it does not have',\n",
       "  'Ikinyarwanda ni ururimi rugoye kurushyira mu cyongereze kuko hari amagambo kidafite',\n",
       "  'Ikinyarwanda ni ururimi rugoye gusemurwa mu cyongereza kuko hari amagambo adafite',\n",
       "  'Kinyarwanda ni ururimi rurerimbuje kubvumvurirwa mu kirundi kuko haba hasigaye amagambo yabanza kutubwa',\n",
       "  'Kinyarwanda ni ururimi rutoroshye guhindura mucyongereza kuko hari amagambo amwe adafite',\n",
       "  0.8153556281915328,\n",
       "  0.48747615004462813,\n",
       "  0.7033443310007398],\n",
       " 20: ['My cat probably thinks he is the leader of this house',\n",
       "  'Injangwe yanjye ishobora kuba itekereza ko ariyo muyobozi w’iyi nzu',\n",
       "  \"Injangwe yanjye birashoboka ko yibwira ko ari umuyobozi w'iyi nzu\",\n",
       "  'Inzoka yanjye yari irashaka kuburambira ariko yari icyumweru mw’imvura',\n",
       "  'Injangwe yanjye ishobora kuba yibwira ko ari umuyobozi wiyi nzu',\n",
       "  0.6526659617929551,\n",
       "  0.31382849261510465,\n",
       "  0.758261678848799]}"
      ]
     },
     "execution_count": 10,
     "metadata": {},
     "output_type": "execute_result"
    }
   ],
   "source": [
    "DictBLEU(Sentences, 2, 5)\n",
    "DictBLEU(Sentences, 3, 6)\n",
    "DictBLEU(Sentences, 4, 7)"
   ]
  },
  {
   "cell_type": "code",
   "execution_count": 11,
   "id": "36e7b544",
   "metadata": {},
   "outputs": [],
   "source": [
    "# Write the updated data to a new CSV file\n",
    "with open('EnKinBLEU.csv', 'w', newline='') as csv_file:\n",
    "    csv_writer = csv.writer(csv_file)\n",
    "    for i in Sentences:\n",
    "        csv_writer.writerow(Sentences[i])\n",
    "        "
   ]
  }
 ],
 "metadata": {
  "kernelspec": {
   "display_name": "Python 3 (ipykernel)",
   "language": "python",
   "name": "python3"
  },
  "language_info": {
   "codemirror_mode": {
    "name": "ipython",
    "version": 3
   },
   "file_extension": ".py",
   "mimetype": "text/x-python",
   "name": "python",
   "nbconvert_exporter": "python",
   "pygments_lexer": "ipython3",
   "version": "3.11.5"
  }
 },
 "nbformat": 4,
 "nbformat_minor": 5
}
