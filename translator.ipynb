{
 "cells": [
  {
   "cell_type": "code",
   "execution_count": 10,
   "metadata": {},
   "outputs": [
    {
     "name": "stdout",
     "output_type": "stream",
     "text": [
      "komeza, uri mwiza\n"
     ]
    }
   ],
   "source": [
    "from deep_translator import GoogleTranslator\n",
    "translated = GoogleTranslator(source='en', target='rw').translate(\"keep it up, you are awesome\")  # output -> Weiter so, du bist großartig\n",
    "print(translated)\n",
    "\n"
   ]
  },
  {
   "cell_type": "code",
   "execution_count": 15,
   "metadata": {},
   "outputs": [
    {
     "name": "stdout",
     "output_type": "stream",
     "text": [
      "Translation using source = en and target = rw -> ['kode nziza', 'komeza, uri mwiza']\n"
     ]
    }
   ],
   "source": [
    "text = ['happy coding', 'keep it up, you are awesome']\n",
    "my_translator = GoogleTranslator(source='en', target='rw')\n",
    "result = my_translator.translate_batch(text)\n",
    "print(f\"Translation using source = {my_translator.source} and target = {my_translator.target} -> {result}\")"
   ]
  },
  {
   "cell_type": "code",
   "execution_count": null,
   "metadata": {},
   "outputs": [],
   "source": []
  }
 ],
 "metadata": {
  "kernelspec": {
   "display_name": "Python 3",
   "language": "python",
   "name": "python3"
  },
  "language_info": {
   "codemirror_mode": {
    "name": "ipython",
    "version": 3
   },
   "file_extension": ".py",
   "mimetype": "text/x-python",
   "name": "python",
   "nbconvert_exporter": "python",
   "pygments_lexer": "ipython3",
   "version": "3.10.13"
  }
 },
 "nbformat": 4,
 "nbformat_minor": 2
}
